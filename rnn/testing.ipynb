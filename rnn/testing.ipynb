{
 "cells": [
  {
   "cell_type": "code",
   "execution_count": 1,
   "metadata": {},
   "outputs": [
    {
     "name": "stdout",
     "output_type": "stream",
     "text": [
      "FILE: train.csv\n",
      "FILE: test_public.csv\n"
     ]
    }
   ],
   "source": [
    "import torch\n",
    "import torch.nn as nn\n",
    "import torchvision\n",
    "import pandas as pd\n",
    "import numpy as np\n",
    "import zipfile\n",
    "import io\n",
    "import pandas as pd\n",
    "import math\n",
    "from IPython.display import display\n",
    "from collections import defaultdict\n",
    "\n",
    "zipped_data_path = \"../data/clean_data/class-competition-not-one-hot-encoders.zip\"\n",
    "\n",
    "dataframes = defaultdict(pd.DataFrame)\n",
    "with zipfile.ZipFile(zipped_data_path, \"r\") as zipped:\n",
    "    for filename in zipped.namelist():\n",
    "        if filename.endswith(\".csv\"):\n",
    "            with zipped.open(filename) as f:\n",
    "                dataframes.update({ filename : pd.read_csv(io.TextIOWrapper(f)) })\n",
    "\n",
    "                # Lets take a look at the files\n",
    "                print(f\"FILE: {filename}\")\n",
    "                # If you want to see file info uncomment this:\n",
    "                # display(dataframes[filename].info())\n",
    "                # display(dataframes[filename].head())\n",
    "\n",
    "train_data = dataframes[\"train.csv\"]\n",
    "test_data  = dataframes[\"test_public.csv\"]"
   ]
  },
  {
   "cell_type": "code",
   "execution_count": 3,
   "metadata": {},
   "outputs": [
    {
     "name": "stdout",
     "output_type": "stream",
     "text": [
      "0                1\n",
      "1                2\n",
      "2                3\n",
      "3                4\n",
      "4                5\n",
      "            ...   \n",
      "1710655    1710656\n",
      "1710656    1710657\n",
      "1710657    1710658\n",
      "1710658    1710659\n",
      "1710659    1710660\n",
      "Name: Original_Order, Length: 1710660, dtype: int64\n"
     ]
    }
   ],
   "source": [
    "# Assuming your dataframe is named 'df'\n",
    "sorted_df = train_data.sort_values(by='TIMESTAMP').reset_index(drop=True)\n",
    "\n",
    "# Create a new column to track the original order\n",
    "sorted_df['Original_Order'] = sorted_df.index + 1\n",
    "\n",
    "# Print the sorted dataframe\n",
    "print(sorted_df['Original_Order'])"
   ]
  },
  {
   "cell_type": "code",
   "execution_count": 7,
   "metadata": {},
   "outputs": [
    {
     "name": "stdout",
     "output_type": "stream",
     "text": [
      "Minimum Datetime: 2013-07-01 00:00:53\n",
      "Maximum Datetime: 2014-06-30 23:59:56\n"
     ]
    }
   ],
   "source": [
    "min_datetime = pd.to_datetime(train_data['TIMESTAMP'], unit='s').min()\n",
    "max_datetime = pd.to_datetime(train_data['TIMESTAMP'], unit='s').max()\n",
    "\n",
    "# Print the minimum and maximum datetime values\n",
    "print(\"Minimum Datetime:\", min_datetime)\n",
    "print(\"Maximum Datetime:\", max_datetime)"
   ]
  },
  {
   "cell_type": "code",
   "execution_count": 8,
   "metadata": {},
   "outputs": [
    {
     "name": "stdout",
     "output_type": "stream",
     "text": [
      "Minimum Datetime: 2014-08-14 16:02:23\n",
      "Maximum Datetime: 2014-12-21 14:29:19\n"
     ]
    }
   ],
   "source": [
    "min_datetime = pd.to_datetime(test_data['TIMESTAMP'], unit='s').min()\n",
    "max_datetime = pd.to_datetime(test_data['TIMESTAMP'], unit='s').max()\n",
    "\n",
    "# Print the minimum and maximum datetime values\n",
    "print(\"Minimum Datetime:\", min_datetime)\n",
    "print(\"Maximum Datetime:\", max_datetime)"
   ]
  },
  {
   "cell_type": "code",
   "execution_count": null,
   "metadata": {},
   "outputs": [],
   "source": []
  }
 ],
 "metadata": {
  "kernelspec": {
   "display_name": ".venv",
   "language": "python",
   "name": "python3"
  },
  "language_info": {
   "codemirror_mode": {
    "name": "ipython",
    "version": 3
   },
   "file_extension": ".py",
   "mimetype": "text/x-python",
   "name": "python",
   "nbconvert_exporter": "python",
   "pygments_lexer": "ipython3",
   "version": "3.9.7"
  },
  "orig_nbformat": 4
 },
 "nbformat": 4,
 "nbformat_minor": 2
}
