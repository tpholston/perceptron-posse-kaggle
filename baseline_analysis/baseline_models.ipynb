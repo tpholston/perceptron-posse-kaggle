{
 "cells": [
  {
   "cell_type": "code",
   "execution_count": 21,
   "metadata": {},
   "outputs": [],
   "source": [
    "import zipfile\n",
    "import pandas as pd\n",
    "import numpy as np\n",
    "\n",
    "# data_preparation.ipynb created train.zip which has train.csv inside\n",
    "zipped_data_path = \"../data/clean_data/train.zip\"\n",
    "train_csv = \"train.csv\"\n",
    "\n",
    "with zipfile.ZipFile(zipped_data_path, \"r\") as zip:\n",
    "    train_data = pd.read_csv(zip.open(train_csv))"
   ]
  },
  {
   "cell_type": "code",
   "execution_count": 22,
   "metadata": {},
   "outputs": [],
   "source": [
    "from sklearn.model_selection import train_test_split\n",
    "\n",
    "ALL_FEATURES = ['TRIP_ID', 'ORIGIN_CALL', 'ORIGIN_STAND', 'TAXI_ID', 'MISSING_DATA',\n",
    " 'POLYLINE', 'DAY_TYPE_A', 'DAY_TYPE_C', 'DAY_TYPE_B',\n",
    " 'CALL_TYPE_A', 'CALL_TYPE_B', 'CALL_TYPE_C', 'YEAR_2013', 'YEAR_2014',\n",
    " 'MONTH_1', 'MONTH_2', 'MONTH_3', 'MONTH_4', 'MONTH_5', 'MONTH_6',\n",
    " 'MONTH_7', 'MONTH_8', 'MONTH_9', 'MONTH_10', 'MONTH_11', 'MONTH_12',\n",
    " 'DAY_OF_WEEK_0', 'DAY_OF_WEEK_1', 'DAY_OF_WEEK_2', 'DAY_OF_WEEK_3',\n",
    " 'DAY_OF_WEEK_4', 'DAY_OF_WEEK_5', 'DAY_OF_WEEK_6', 'HOUR_0', 'HOUR_1',\n",
    " 'HOUR_2', 'HOUR_3', 'HOUR_4', 'HOUR_5', 'HOUR_6', 'HOUR_7', 'HOUR_8',\n",
    " 'HOUR_9', 'HOUR_10', 'HOUR_11', 'HOUR_12', 'HOUR_13', 'HOUR_14',\n",
    " 'HOUR_15', 'HOUR_16', 'HOUR_17', 'HOUR_18', 'HOUR_19', 'HOUR_20',\n",
    " 'HOUR_21', 'HOUR_22', 'HOUR_23']\n",
    "\n",
    "# We could totally change this. Utilization of these just probably requires further preprocessing.\n",
    "ALL_FEATURES_NOT_SUITED_FOR_ESTIMATION = ['TRIP_ID', 'ORIGIN_CALL', 'ORIGIN_STAND', 'TAXI_ID', 'POLYLINE']\n",
    "\n",
    "X = train_data.drop(\"TRAVEL_TIME\", axis=1)\n",
    "X = X.loc[:, ~X.columns.isin(ALL_FEATURES_NOT_SUITED_FOR_ESTIMATION)]\n",
    "y = train_data[\"TRAVEL_TIME\"]\n",
    "\n",
    "X_train, X_test, y_train, y_test = train_test_split(X, y, test_size=0.2, random_state=420)"
   ]
  },
  {
   "cell_type": "code",
   "execution_count": 23,
   "metadata": {},
   "outputs": [],
   "source": [
    "from sklearn.metrics import mean_squared_error\n",
    "\n",
    "def root_mean_squared_error(y_true, y_pred):\n",
    "    return mean_squared_error(y_true, y_pred, squared=False)\n",
    "\n",
    "# This is gonna run for a really long time unless we operate on a sample \n",
    "def train_test_split_sample(frac, random_state=420):\n",
    "    # TODO: We should use stratified sampling here. Would help get more representative samples.\n",
    "    train_data_sample = train_data.sample(frac=frac, random_state=random_state) # frac is used to control percentage of train data used\n",
    "    X_sample = train_data_sample.drop(\"TRAVEL_TIME\", axis=1)\n",
    "    X_sample = X_sample.loc[:, ~X_sample.columns.isin(ALL_FEATURES_NOT_SUITED_FOR_ESTIMATION)]\n",
    "    y_sample = train_data_sample[\"TRAVEL_TIME\"]\n",
    "\n",
    "    X_train_sample, X_test_sample, y_train_sample, y_test_sample = train_test_split(X_sample, y_sample, test_size=0.2, random_state=420)\n",
    "    return X_train_sample, X_test_sample, y_train_sample, y_test_sample"
   ]
  },
  {
   "attachments": {},
   "cell_type": "markdown",
   "metadata": {},
   "source": [
    "### Baseline: predicting average"
   ]
  },
  {
   "cell_type": "code",
   "execution_count": 24,
   "metadata": {},
   "outputs": [
    {
     "data": {
      "text/plain": [
       "678.8930754443071"
      ]
     },
     "execution_count": 24,
     "metadata": {},
     "output_type": "execute_result"
    }
   ],
   "source": [
    "# Establish a baseline for model comparison. What if we always predict the average travel time?\n",
    "avg_travel_time = y_train.mean()\n",
    "y_pred = [ avg_travel_time for i in range(len(X_test)) ]\n",
    "\n",
    "root_mean_squared_error(y_test, y_pred)"
   ]
  },
  {
   "attachments": {},
   "cell_type": "markdown",
   "metadata": {},
   "source": [
    "#### Reviewing Baseline:\n",
    "* RMSE = 678.8930754443071\n",
    "* the most naive approach"
   ]
  },
  {
   "attachments": {},
   "cell_type": "markdown",
   "metadata": {},
   "source": [
    "### Linear Regression"
   ]
  },
  {
   "cell_type": "code",
   "execution_count": 25,
   "metadata": {},
   "outputs": [
    {
     "data": {
      "text/plain": [
       "671.0856201370245"
      ]
     },
     "execution_count": 25,
     "metadata": {},
     "output_type": "execute_result"
    }
   ],
   "source": [
    "# Running a linear regression\n",
    "from sklearn import linear_model\n",
    "\n",
    "lreg = linear_model.LinearRegression()\n",
    "lreg.fit(X_train, y_train)\n",
    "y_pred = lreg.predict(X_test)\n",
    "\n",
    "root_mean_squared_error(y_test, y_pred)"
   ]
  },
  {
   "cell_type": "code",
   "execution_count": 26,
   "metadata": {},
   "outputs": [
    {
     "name": "stderr",
     "output_type": "stream",
     "text": [
      "/Users/tylerholston/Desktop/151b-kaggle-competition/.venv/lib/python3.11/site-packages/sklearn/linear_model/_coordinate_descent.py:631: ConvergenceWarning: Objective did not converge. You might want to increase the number of iterations, check the scale of the features or consider increasing regularisation. Duality gap: 6.587e+08, tolerance: 4.165e+05\n",
      "  model = cd_fast.enet_coordinate_descent(\n",
      "/Users/tylerholston/Desktop/151b-kaggle-competition/.venv/lib/python3.11/site-packages/sklearn/linear_model/_coordinate_descent.py:631: ConvergenceWarning: Objective did not converge. You might want to increase the number of iterations, check the scale of the features or consider increasing regularisation. Duality gap: 1.151e+08, tolerance: 3.787e+05\n",
      "  model = cd_fast.enet_coordinate_descent(\n",
      "/Users/tylerholston/Desktop/151b-kaggle-competition/.venv/lib/python3.11/site-packages/sklearn/linear_model/_coordinate_descent.py:631: ConvergenceWarning: Objective did not converge. You might want to increase the number of iterations, check the scale of the features or consider increasing regularisation. Duality gap: 4.056e+08, tolerance: 3.693e+05\n",
      "  model = cd_fast.enet_coordinate_descent(\n",
      "/Users/tylerholston/Desktop/151b-kaggle-competition/.venv/lib/python3.11/site-packages/sklearn/linear_model/_coordinate_descent.py:631: ConvergenceWarning: Objective did not converge. You might want to increase the number of iterations, check the scale of the features or consider increasing regularisation. Duality gap: 2.849e+08, tolerance: 4.159e+05\n",
      "  model = cd_fast.enet_coordinate_descent(\n",
      "/Users/tylerholston/Desktop/151b-kaggle-competition/.venv/lib/python3.11/site-packages/sklearn/linear_model/_coordinate_descent.py:631: ConvergenceWarning: Objective did not converge. You might want to increase the number of iterations, check the scale of the features or consider increasing regularisation. Duality gap: 6.587e+08, tolerance: 4.165e+05\n",
      "  model = cd_fast.enet_coordinate_descent(\n",
      "/Users/tylerholston/Desktop/151b-kaggle-competition/.venv/lib/python3.11/site-packages/sklearn/linear_model/_coordinate_descent.py:631: ConvergenceWarning: Objective did not converge. You might want to increase the number of iterations, check the scale of the features or consider increasing regularisation. Duality gap: 3.686e+08, tolerance: 4.201e+05\n",
      "  model = cd_fast.enet_coordinate_descent(\n",
      "/Users/tylerholston/Desktop/151b-kaggle-competition/.venv/lib/python3.11/site-packages/sklearn/linear_model/_coordinate_descent.py:631: ConvergenceWarning: Objective did not converge. You might want to increase the number of iterations, check the scale of the features or consider increasing regularisation. Duality gap: 3.686e+08, tolerance: 4.201e+05\n",
      "  model = cd_fast.enet_coordinate_descent(\n",
      "/Users/tylerholston/Desktop/151b-kaggle-competition/.venv/lib/python3.11/site-packages/sklearn/linear_model/_coordinate_descent.py:631: ConvergenceWarning: Objective did not converge. You might want to increase the number of iterations, check the scale of the features or consider increasing regularisation. Duality gap: 1.151e+08, tolerance: 3.787e+05\n",
      "  model = cd_fast.enet_coordinate_descent(\n",
      "/Users/tylerholston/Desktop/151b-kaggle-competition/.venv/lib/python3.11/site-packages/sklearn/linear_model/_coordinate_descent.py:631: ConvergenceWarning: Objective did not converge. You might want to increase the number of iterations, check the scale of the features or consider increasing regularisation. Duality gap: 4.056e+08, tolerance: 3.693e+05\n",
      "  model = cd_fast.enet_coordinate_descent(\n",
      "/Users/tylerholston/Desktop/151b-kaggle-competition/.venv/lib/python3.11/site-packages/sklearn/linear_model/_coordinate_descent.py:631: ConvergenceWarning: Objective did not converge. You might want to increase the number of iterations, check the scale of the features or consider increasing regularisation. Duality gap: 3.686e+08, tolerance: 4.201e+05\n",
      "  model = cd_fast.enet_coordinate_descent(\n",
      "/Users/tylerholston/Desktop/151b-kaggle-competition/.venv/lib/python3.11/site-packages/sklearn/linear_model/_coordinate_descent.py:631: ConvergenceWarning: Objective did not converge. You might want to increase the number of iterations, check the scale of the features or consider increasing regularisation. Duality gap: 2.849e+08, tolerance: 4.159e+05\n",
      "  model = cd_fast.enet_coordinate_descent(\n",
      "/Users/tylerholston/Desktop/151b-kaggle-competition/.venv/lib/python3.11/site-packages/sklearn/linear_model/_coordinate_descent.py:631: ConvergenceWarning: Objective did not converge. You might want to increase the number of iterations, check the scale of the features or consider increasing regularisation. Duality gap: 1.151e+08, tolerance: 3.787e+05\n",
      "  model = cd_fast.enet_coordinate_descent(\n",
      "/Users/tylerholston/Desktop/151b-kaggle-competition/.venv/lib/python3.11/site-packages/sklearn/linear_model/_coordinate_descent.py:631: ConvergenceWarning: Objective did not converge. You might want to increase the number of iterations, check the scale of the features or consider increasing regularisation. Duality gap: 2.849e+08, tolerance: 4.159e+05\n",
      "  model = cd_fast.enet_coordinate_descent(\n",
      "/Users/tylerholston/Desktop/151b-kaggle-competition/.venv/lib/python3.11/site-packages/sklearn/linear_model/_coordinate_descent.py:631: ConvergenceWarning: Objective did not converge. You might want to increase the number of iterations, check the scale of the features or consider increasing regularisation. Duality gap: 4.056e+08, tolerance: 3.693e+05\n",
      "  model = cd_fast.enet_coordinate_descent(\n",
      "/Users/tylerholston/Desktop/151b-kaggle-competition/.venv/lib/python3.11/site-packages/sklearn/linear_model/_coordinate_descent.py:631: ConvergenceWarning: Objective did not converge. You might want to increase the number of iterations, check the scale of the features or consider increasing regularisation. Duality gap: 7.411e+08, tolerance: 4.165e+05\n",
      "  model = cd_fast.enet_coordinate_descent(\n",
      "/Users/tylerholston/Desktop/151b-kaggle-competition/.venv/lib/python3.11/site-packages/sklearn/linear_model/_coordinate_descent.py:631: ConvergenceWarning: Objective did not converge. You might want to increase the number of iterations, check the scale of the features or consider increasing regularisation. Duality gap: 1.151e+08, tolerance: 3.787e+05\n",
      "  model = cd_fast.enet_coordinate_descent(\n",
      "/Users/tylerholston/Desktop/151b-kaggle-competition/.venv/lib/python3.11/site-packages/sklearn/linear_model/_coordinate_descent.py:631: ConvergenceWarning: Objective did not converge. You might want to increase the number of iterations, check the scale of the features or consider increasing regularisation. Duality gap: 7.412e+08, tolerance: 4.165e+05\n",
      "  model = cd_fast.enet_coordinate_descent(\n",
      "/Users/tylerholston/Desktop/151b-kaggle-competition/.venv/lib/python3.11/site-packages/sklearn/linear_model/_coordinate_descent.py:631: ConvergenceWarning: Objective did not converge. You might want to increase the number of iterations, check the scale of the features or consider increasing regularisation. Duality gap: 4.056e+08, tolerance: 3.693e+05\n",
      "  model = cd_fast.enet_coordinate_descent(\n",
      "/Users/tylerholston/Desktop/151b-kaggle-competition/.venv/lib/python3.11/site-packages/sklearn/linear_model/_coordinate_descent.py:631: ConvergenceWarning: Objective did not converge. You might want to increase the number of iterations, check the scale of the features or consider increasing regularisation. Duality gap: 3.686e+08, tolerance: 4.201e+05\n",
      "  model = cd_fast.enet_coordinate_descent(\n",
      "/Users/tylerholston/Desktop/151b-kaggle-competition/.venv/lib/python3.11/site-packages/sklearn/linear_model/_coordinate_descent.py:631: ConvergenceWarning: Objective did not converge. You might want to increase the number of iterations, check the scale of the features or consider increasing regularisation. Duality gap: 1.151e+08, tolerance: 3.787e+05\n",
      "  model = cd_fast.enet_coordinate_descent(\n",
      "/Users/tylerholston/Desktop/151b-kaggle-competition/.venv/lib/python3.11/site-packages/sklearn/linear_model/_coordinate_descent.py:631: ConvergenceWarning: Objective did not converge. You might want to increase the number of iterations, check the scale of the features or consider increasing regularisation. Duality gap: 2.849e+08, tolerance: 4.159e+05\n",
      "  model = cd_fast.enet_coordinate_descent(\n",
      "/Users/tylerholston/Desktop/151b-kaggle-competition/.venv/lib/python3.11/site-packages/sklearn/linear_model/_coordinate_descent.py:631: ConvergenceWarning: Objective did not converge. You might want to increase the number of iterations, check the scale of the features or consider increasing regularisation. Duality gap: 3.686e+08, tolerance: 4.201e+05\n",
      "  model = cd_fast.enet_coordinate_descent(\n",
      "/Users/tylerholston/Desktop/151b-kaggle-competition/.venv/lib/python3.11/site-packages/sklearn/linear_model/_coordinate_descent.py:631: ConvergenceWarning: Objective did not converge. You might want to increase the number of iterations, check the scale of the features or consider increasing regularisation. Duality gap: 7.412e+08, tolerance: 4.165e+05\n",
      "  model = cd_fast.enet_coordinate_descent(\n",
      "/Users/tylerholston/Desktop/151b-kaggle-competition/.venv/lib/python3.11/site-packages/sklearn/linear_model/_coordinate_descent.py:631: ConvergenceWarning: Objective did not converge. You might want to increase the number of iterations, check the scale of the features or consider increasing regularisation. Duality gap: 4.056e+08, tolerance: 3.693e+05\n",
      "  model = cd_fast.enet_coordinate_descent(\n",
      "/Users/tylerholston/Desktop/151b-kaggle-competition/.venv/lib/python3.11/site-packages/sklearn/linear_model/_coordinate_descent.py:631: ConvergenceWarning: Objective did not converge. You might want to increase the number of iterations, check the scale of the features or consider increasing regularisation. Duality gap: 2.849e+08, tolerance: 4.159e+05\n",
      "  model = cd_fast.enet_coordinate_descent(\n",
      "/Users/tylerholston/Desktop/151b-kaggle-competition/.venv/lib/python3.11/site-packages/sklearn/linear_model/_coordinate_descent.py:631: ConvergenceWarning: Objective did not converge. You might want to increase the number of iterations, check the scale of the features or consider increasing regularisation. Duality gap: 1.151e+08, tolerance: 3.787e+05\n",
      "  model = cd_fast.enet_coordinate_descent(\n",
      "/Users/tylerholston/Desktop/151b-kaggle-competition/.venv/lib/python3.11/site-packages/sklearn/linear_model/_coordinate_descent.py:631: ConvergenceWarning: Objective did not converge. You might want to increase the number of iterations, check the scale of the features or consider increasing regularisation. Duality gap: 7.412e+08, tolerance: 4.165e+05\n",
      "  model = cd_fast.enet_coordinate_descent(\n",
      "/Users/tylerholston/Desktop/151b-kaggle-competition/.venv/lib/python3.11/site-packages/sklearn/linear_model/_coordinate_descent.py:631: ConvergenceWarning: Objective did not converge. You might want to increase the number of iterations, check the scale of the features or consider increasing regularisation. Duality gap: 3.686e+08, tolerance: 4.201e+05\n",
      "  model = cd_fast.enet_coordinate_descent(\n",
      "/Users/tylerholston/Desktop/151b-kaggle-competition/.venv/lib/python3.11/site-packages/sklearn/linear_model/_coordinate_descent.py:631: ConvergenceWarning: Objective did not converge. You might want to increase the number of iterations, check the scale of the features or consider increasing regularisation. Duality gap: 1.151e+08, tolerance: 3.787e+05\n",
      "  model = cd_fast.enet_coordinate_descent(\n",
      "/Users/tylerholston/Desktop/151b-kaggle-competition/.venv/lib/python3.11/site-packages/sklearn/linear_model/_coordinate_descent.py:631: ConvergenceWarning: Objective did not converge. You might want to increase the number of iterations, check the scale of the features or consider increasing regularisation. Duality gap: 4.056e+08, tolerance: 3.693e+05\n",
      "  model = cd_fast.enet_coordinate_descent(\n",
      "/Users/tylerholston/Desktop/151b-kaggle-competition/.venv/lib/python3.11/site-packages/sklearn/linear_model/_coordinate_descent.py:631: ConvergenceWarning: Objective did not converge. You might want to increase the number of iterations, check the scale of the features or consider increasing regularisation. Duality gap: 2.849e+08, tolerance: 4.159e+05\n",
      "  model = cd_fast.enet_coordinate_descent(\n",
      "/Users/tylerholston/Desktop/151b-kaggle-competition/.venv/lib/python3.11/site-packages/sklearn/linear_model/_coordinate_descent.py:631: ConvergenceWarning: Objective did not converge. You might want to increase the number of iterations, check the scale of the features or consider increasing regularisation. Duality gap: 3.686e+08, tolerance: 4.201e+05\n",
      "  model = cd_fast.enet_coordinate_descent(\n",
      "/Users/tylerholston/Desktop/151b-kaggle-competition/.venv/lib/python3.11/site-packages/sklearn/linear_model/_coordinate_descent.py:631: ConvergenceWarning: Objective did not converge. You might want to increase the number of iterations, check the scale of the features or consider increasing regularisation. Duality gap: 7.412e+08, tolerance: 4.165e+05\n",
      "  model = cd_fast.enet_coordinate_descent(\n",
      "/Users/tylerholston/Desktop/151b-kaggle-competition/.venv/lib/python3.11/site-packages/sklearn/linear_model/_coordinate_descent.py:631: ConvergenceWarning: Objective did not converge. You might want to increase the number of iterations, check the scale of the features or consider increasing regularisation. Duality gap: 1.151e+08, tolerance: 3.787e+05\n",
      "  model = cd_fast.enet_coordinate_descent(\n",
      "/Users/tylerholston/Desktop/151b-kaggle-competition/.venv/lib/python3.11/site-packages/sklearn/linear_model/_coordinate_descent.py:631: ConvergenceWarning: Objective did not converge. You might want to increase the number of iterations, check the scale of the features or consider increasing regularisation. Duality gap: 4.056e+08, tolerance: 3.693e+05\n",
      "  model = cd_fast.enet_coordinate_descent(\n",
      "/Users/tylerholston/Desktop/151b-kaggle-competition/.venv/lib/python3.11/site-packages/sklearn/linear_model/_coordinate_descent.py:631: ConvergenceWarning: Objective did not converge. You might want to increase the number of iterations, check the scale of the features or consider increasing regularisation. Duality gap: 2.849e+08, tolerance: 4.159e+05\n",
      "  model = cd_fast.enet_coordinate_descent(\n",
      "/Users/tylerholston/Desktop/151b-kaggle-competition/.venv/lib/python3.11/site-packages/sklearn/linear_model/_coordinate_descent.py:631: ConvergenceWarning: Objective did not converge. You might want to increase the number of iterations, check the scale of the features or consider increasing regularisation. Duality gap: 3.686e+08, tolerance: 4.201e+05\n",
      "  model = cd_fast.enet_coordinate_descent(\n",
      "/Users/tylerholston/Desktop/151b-kaggle-competition/.venv/lib/python3.11/site-packages/sklearn/linear_model/_coordinate_descent.py:631: ConvergenceWarning: Objective did not converge. You might want to increase the number of iterations, check the scale of the features or consider increasing regularisation. Duality gap: 1.764e+08, tolerance: 4.165e+05\n",
      "  model = cd_fast.enet_coordinate_descent(\n",
      "/Users/tylerholston/Desktop/151b-kaggle-competition/.venv/lib/python3.11/site-packages/sklearn/linear_model/_coordinate_descent.py:631: ConvergenceWarning: Objective did not converge. You might want to increase the number of iterations, check the scale of the features or consider increasing regularisation. Duality gap: 2.849e+08, tolerance: 4.159e+05\n",
      "  model = cd_fast.enet_coordinate_descent(\n",
      "/Users/tylerholston/Desktop/151b-kaggle-competition/.venv/lib/python3.11/site-packages/sklearn/linear_model/_coordinate_descent.py:631: ConvergenceWarning: Objective did not converge. You might want to increase the number of iterations, check the scale of the features or consider increasing regularisation. Duality gap: 4.056e+08, tolerance: 3.693e+05\n",
      "  model = cd_fast.enet_coordinate_descent(\n",
      "/Users/tylerholston/Desktop/151b-kaggle-competition/.venv/lib/python3.11/site-packages/sklearn/linear_model/_coordinate_descent.py:631: ConvergenceWarning: Objective did not converge. You might want to increase the number of iterations, check the scale of the features or consider increasing regularisation. Duality gap: 9.380e+07, tolerance: 3.787e+05\n",
      "  model = cd_fast.enet_coordinate_descent(\n",
      "/Users/tylerholston/Desktop/151b-kaggle-competition/.venv/lib/python3.11/site-packages/sklearn/linear_model/_coordinate_descent.py:631: ConvergenceWarning: Objective did not converge. You might want to increase the number of iterations, check the scale of the features or consider increasing regularisation. Duality gap: 3.686e+08, tolerance: 4.201e+05\n",
      "  model = cd_fast.enet_coordinate_descent(\n",
      "/Users/tylerholston/Desktop/151b-kaggle-competition/.venv/lib/python3.11/site-packages/sklearn/linear_model/_coordinate_descent.py:631: ConvergenceWarning: Objective did not converge. You might want to increase the number of iterations, check the scale of the features or consider increasing regularisation. Duality gap: 2.253e+08, tolerance: 4.165e+05\n",
      "  model = cd_fast.enet_coordinate_descent(\n",
      "/Users/tylerholston/Desktop/151b-kaggle-competition/.venv/lib/python3.11/site-packages/sklearn/linear_model/_coordinate_descent.py:631: ConvergenceWarning: Objective did not converge. You might want to increase the number of iterations, check the scale of the features or consider increasing regularisation. Duality gap: 2.849e+08, tolerance: 4.159e+05\n",
      "  model = cd_fast.enet_coordinate_descent(\n",
      "/Users/tylerholston/Desktop/151b-kaggle-competition/.venv/lib/python3.11/site-packages/sklearn/linear_model/_coordinate_descent.py:631: ConvergenceWarning: Objective did not converge. You might want to increase the number of iterations, check the scale of the features or consider increasing regularisation. Duality gap: 4.056e+08, tolerance: 3.693e+05\n",
      "  model = cd_fast.enet_coordinate_descent(\n",
      "/Users/tylerholston/Desktop/151b-kaggle-competition/.venv/lib/python3.11/site-packages/sklearn/linear_model/_coordinate_descent.py:631: ConvergenceWarning: Objective did not converge. You might want to increase the number of iterations, check the scale of the features or consider increasing regularisation. Duality gap: 3.686e+08, tolerance: 4.201e+05\n",
      "  model = cd_fast.enet_coordinate_descent(\n",
      "/Users/tylerholston/Desktop/151b-kaggle-competition/.venv/lib/python3.11/site-packages/sklearn/linear_model/_coordinate_descent.py:631: ConvergenceWarning: Objective did not converge. You might want to increase the number of iterations, check the scale of the features or consider increasing regularisation. Duality gap: 9.380e+07, tolerance: 3.787e+05\n",
      "  model = cd_fast.enet_coordinate_descent(\n",
      "/Users/tylerholston/Desktop/151b-kaggle-competition/.venv/lib/python3.11/site-packages/sklearn/linear_model/_coordinate_descent.py:631: ConvergenceWarning: Objective did not converge. You might want to increase the number of iterations, check the scale of the features or consider increasing regularisation. Duality gap: 2.253e+08, tolerance: 4.165e+05\n",
      "  model = cd_fast.enet_coordinate_descent(\n",
      "/Users/tylerholston/Desktop/151b-kaggle-competition/.venv/lib/python3.11/site-packages/sklearn/linear_model/_coordinate_descent.py:631: ConvergenceWarning: Objective did not converge. You might want to increase the number of iterations, check the scale of the features or consider increasing regularisation. Duality gap: 4.056e+08, tolerance: 3.693e+05\n",
      "  model = cd_fast.enet_coordinate_descent(\n",
      "/Users/tylerholston/Desktop/151b-kaggle-competition/.venv/lib/python3.11/site-packages/sklearn/linear_model/_coordinate_descent.py:631: ConvergenceWarning: Objective did not converge. You might want to increase the number of iterations, check the scale of the features or consider increasing regularisation. Duality gap: 2.849e+08, tolerance: 4.159e+05\n",
      "  model = cd_fast.enet_coordinate_descent(\n",
      "/Users/tylerholston/Desktop/151b-kaggle-competition/.venv/lib/python3.11/site-packages/sklearn/linear_model/_coordinate_descent.py:631: ConvergenceWarning: Objective did not converge. You might want to increase the number of iterations, check the scale of the features or consider increasing regularisation. Duality gap: 9.380e+07, tolerance: 3.787e+05\n",
      "  model = cd_fast.enet_coordinate_descent(\n",
      "/Users/tylerholston/Desktop/151b-kaggle-competition/.venv/lib/python3.11/site-packages/sklearn/linear_model/_coordinate_descent.py:631: ConvergenceWarning: Objective did not converge. You might want to increase the number of iterations, check the scale of the features or consider increasing regularisation. Duality gap: 2.253e+08, tolerance: 4.165e+05\n",
      "  model = cd_fast.enet_coordinate_descent(\n",
      "/Users/tylerholston/Desktop/151b-kaggle-competition/.venv/lib/python3.11/site-packages/sklearn/linear_model/_coordinate_descent.py:631: ConvergenceWarning: Objective did not converge. You might want to increase the number of iterations, check the scale of the features or consider increasing regularisation. Duality gap: 3.686e+08, tolerance: 4.201e+05\n",
      "  model = cd_fast.enet_coordinate_descent(\n",
      "/Users/tylerholston/Desktop/151b-kaggle-competition/.venv/lib/python3.11/site-packages/sklearn/linear_model/_coordinate_descent.py:631: ConvergenceWarning: Objective did not converge. You might want to increase the number of iterations, check the scale of the features or consider increasing regularisation. Duality gap: 4.056e+08, tolerance: 3.693e+05\n",
      "  model = cd_fast.enet_coordinate_descent(\n",
      "/Users/tylerholston/Desktop/151b-kaggle-competition/.venv/lib/python3.11/site-packages/sklearn/linear_model/_coordinate_descent.py:631: ConvergenceWarning: Objective did not converge. You might want to increase the number of iterations, check the scale of the features or consider increasing regularisation. Duality gap: 2.849e+08, tolerance: 4.159e+05\n",
      "  model = cd_fast.enet_coordinate_descent(\n",
      "/Users/tylerholston/Desktop/151b-kaggle-competition/.venv/lib/python3.11/site-packages/sklearn/linear_model/_coordinate_descent.py:631: ConvergenceWarning: Objective did not converge. You might want to increase the number of iterations, check the scale of the features or consider increasing regularisation. Duality gap: 9.380e+07, tolerance: 3.787e+05\n",
      "  model = cd_fast.enet_coordinate_descent(\n",
      "/Users/tylerholston/Desktop/151b-kaggle-competition/.venv/lib/python3.11/site-packages/sklearn/linear_model/_coordinate_descent.py:631: ConvergenceWarning: Objective did not converge. You might want to increase the number of iterations, check the scale of the features or consider increasing regularisation. Duality gap: 3.686e+08, tolerance: 4.201e+05\n",
      "  model = cd_fast.enet_coordinate_descent(\n",
      "/Users/tylerholston/Desktop/151b-kaggle-competition/.venv/lib/python3.11/site-packages/sklearn/linear_model/_coordinate_descent.py:631: ConvergenceWarning: Objective did not converge. You might want to increase the number of iterations, check the scale of the features or consider increasing regularisation. Duality gap: 2.253e+08, tolerance: 4.165e+05\n",
      "  model = cd_fast.enet_coordinate_descent(\n",
      "/Users/tylerholston/Desktop/151b-kaggle-competition/.venv/lib/python3.11/site-packages/sklearn/linear_model/_coordinate_descent.py:631: ConvergenceWarning: Objective did not converge. You might want to increase the number of iterations, check the scale of the features or consider increasing regularisation. Duality gap: 4.056e+08, tolerance: 3.693e+05\n",
      "  model = cd_fast.enet_coordinate_descent(\n",
      "/Users/tylerholston/Desktop/151b-kaggle-competition/.venv/lib/python3.11/site-packages/sklearn/linear_model/_coordinate_descent.py:631: ConvergenceWarning: Objective did not converge. You might want to increase the number of iterations, check the scale of the features or consider increasing regularisation. Duality gap: 9.380e+07, tolerance: 3.787e+05\n",
      "  model = cd_fast.enet_coordinate_descent(\n",
      "/Users/tylerholston/Desktop/151b-kaggle-competition/.venv/lib/python3.11/site-packages/sklearn/linear_model/_coordinate_descent.py:631: ConvergenceWarning: Objective did not converge. You might want to increase the number of iterations, check the scale of the features or consider increasing regularisation. Duality gap: 1.953e+08, tolerance: 4.159e+05\n",
      "  model = cd_fast.enet_coordinate_descent(\n",
      "/Users/tylerholston/Desktop/151b-kaggle-competition/.venv/lib/python3.11/site-packages/sklearn/linear_model/_coordinate_descent.py:631: ConvergenceWarning: Objective did not converge. You might want to increase the number of iterations, check the scale of the features or consider increasing regularisation. Duality gap: 2.253e+08, tolerance: 4.165e+05\n",
      "  model = cd_fast.enet_coordinate_descent(\n",
      "/Users/tylerholston/Desktop/151b-kaggle-competition/.venv/lib/python3.11/site-packages/sklearn/linear_model/_coordinate_descent.py:631: ConvergenceWarning: Objective did not converge. You might want to increase the number of iterations, check the scale of the features or consider increasing regularisation. Duality gap: 1.228e+08, tolerance: 4.201e+05\n",
      "  model = cd_fast.enet_coordinate_descent(\n",
      "/Users/tylerholston/Desktop/151b-kaggle-competition/.venv/lib/python3.11/site-packages/sklearn/linear_model/_coordinate_descent.py:631: ConvergenceWarning: Objective did not converge. You might want to increase the number of iterations, check the scale of the features or consider increasing regularisation. Duality gap: 4.056e+08, tolerance: 3.693e+05\n",
      "  model = cd_fast.enet_coordinate_descent(\n",
      "/Users/tylerholston/Desktop/151b-kaggle-competition/.venv/lib/python3.11/site-packages/sklearn/linear_model/_coordinate_descent.py:631: ConvergenceWarning: Objective did not converge. You might want to increase the number of iterations, check the scale of the features or consider increasing regularisation. Duality gap: 3.454e+07, tolerance: 4.159e+05\n",
      "  model = cd_fast.enet_coordinate_descent(\n",
      "/Users/tylerholston/Desktop/151b-kaggle-competition/.venv/lib/python3.11/site-packages/sklearn/linear_model/_coordinate_descent.py:631: ConvergenceWarning: Objective did not converge. You might want to increase the number of iterations, check the scale of the features or consider increasing regularisation. Duality gap: 3.485e+08, tolerance: 4.201e+05\n",
      "  model = cd_fast.enet_coordinate_descent(\n",
      "/Users/tylerholston/Desktop/151b-kaggle-competition/.venv/lib/python3.11/site-packages/sklearn/linear_model/_coordinate_descent.py:631: ConvergenceWarning: Objective did not converge. You might want to increase the number of iterations, check the scale of the features or consider increasing regularisation. Duality gap: 3.391e+07, tolerance: 3.787e+05\n",
      "  model = cd_fast.enet_coordinate_descent(\n",
      "/Users/tylerholston/Desktop/151b-kaggle-competition/.venv/lib/python3.11/site-packages/sklearn/linear_model/_coordinate_descent.py:631: ConvergenceWarning: Objective did not converge. You might want to increase the number of iterations, check the scale of the features or consider increasing regularisation. Duality gap: 3.176e+07, tolerance: 4.165e+05\n",
      "  model = cd_fast.enet_coordinate_descent(\n",
      "/Users/tylerholston/Desktop/151b-kaggle-competition/.venv/lib/python3.11/site-packages/sklearn/linear_model/_coordinate_descent.py:631: ConvergenceWarning: Objective did not converge. You might want to increase the number of iterations, check the scale of the features or consider increasing regularisation. Duality gap: 3.044e+08, tolerance: 3.693e+05\n",
      "  model = cd_fast.enet_coordinate_descent(\n",
      "/Users/tylerholston/Desktop/151b-kaggle-competition/.venv/lib/python3.11/site-packages/sklearn/linear_model/_coordinate_descent.py:631: ConvergenceWarning: Objective did not converge. You might want to increase the number of iterations, check the scale of the features or consider increasing regularisation. Duality gap: 3.391e+07, tolerance: 3.787e+05\n",
      "  model = cd_fast.enet_coordinate_descent(\n",
      "/Users/tylerholston/Desktop/151b-kaggle-competition/.venv/lib/python3.11/site-packages/sklearn/linear_model/_coordinate_descent.py:631: ConvergenceWarning: Objective did not converge. You might want to increase the number of iterations, check the scale of the features or consider increasing regularisation. Duality gap: 3.233e+07, tolerance: 4.159e+05\n",
      "  model = cd_fast.enet_coordinate_descent(\n",
      "/Users/tylerholston/Desktop/151b-kaggle-competition/.venv/lib/python3.11/site-packages/sklearn/linear_model/_coordinate_descent.py:631: ConvergenceWarning: Objective did not converge. You might want to increase the number of iterations, check the scale of the features or consider increasing regularisation. Duality gap: 7.641e+07, tolerance: 4.201e+05\n",
      "  model = cd_fast.enet_coordinate_descent(\n",
      "/Users/tylerholston/Desktop/151b-kaggle-competition/.venv/lib/python3.11/site-packages/sklearn/linear_model/_coordinate_descent.py:631: ConvergenceWarning: Objective did not converge. You might want to increase the number of iterations, check the scale of the features or consider increasing regularisation. Duality gap: 3.233e+07, tolerance: 4.159e+05\n",
      "  model = cd_fast.enet_coordinate_descent(\n",
      "/Users/tylerholston/Desktop/151b-kaggle-competition/.venv/lib/python3.11/site-packages/sklearn/linear_model/_coordinate_descent.py:631: ConvergenceWarning: Objective did not converge. You might want to increase the number of iterations, check the scale of the features or consider increasing regularisation. Duality gap: 3.176e+07, tolerance: 4.165e+05\n",
      "  model = cd_fast.enet_coordinate_descent(\n",
      "/Users/tylerholston/Desktop/151b-kaggle-competition/.venv/lib/python3.11/site-packages/sklearn/linear_model/_coordinate_descent.py:631: ConvergenceWarning: Objective did not converge. You might want to increase the number of iterations, check the scale of the features or consider increasing regularisation. Duality gap: 7.642e+07, tolerance: 4.201e+05\n",
      "  model = cd_fast.enet_coordinate_descent(\n",
      "/Users/tylerholston/Desktop/151b-kaggle-competition/.venv/lib/python3.11/site-packages/sklearn/linear_model/_coordinate_descent.py:631: ConvergenceWarning: Objective did not converge. You might want to increase the number of iterations, check the scale of the features or consider increasing regularisation. Duality gap: 3.044e+08, tolerance: 3.693e+05\n",
      "  model = cd_fast.enet_coordinate_descent(\n",
      "/Users/tylerholston/Desktop/151b-kaggle-competition/.venv/lib/python3.11/site-packages/sklearn/linear_model/_coordinate_descent.py:631: ConvergenceWarning: Objective did not converge. You might want to increase the number of iterations, check the scale of the features or consider increasing regularisation. Duality gap: 3.233e+07, tolerance: 4.159e+05\n",
      "  model = cd_fast.enet_coordinate_descent(\n",
      "/Users/tylerholston/Desktop/151b-kaggle-competition/.venv/lib/python3.11/site-packages/sklearn/linear_model/_coordinate_descent.py:631: ConvergenceWarning: Objective did not converge. You might want to increase the number of iterations, check the scale of the features or consider increasing regularisation. Duality gap: 6.822e+07, tolerance: 3.787e+05\n",
      "  model = cd_fast.enet_coordinate_descent(\n",
      "/Users/tylerholston/Desktop/151b-kaggle-competition/.venv/lib/python3.11/site-packages/sklearn/linear_model/_coordinate_descent.py:631: ConvergenceWarning: Objective did not converge. You might want to increase the number of iterations, check the scale of the features or consider increasing regularisation. Duality gap: 3.176e+07, tolerance: 4.165e+05\n",
      "  model = cd_fast.enet_coordinate_descent(\n",
      "/Users/tylerholston/Desktop/151b-kaggle-competition/.venv/lib/python3.11/site-packages/sklearn/linear_model/_coordinate_descent.py:631: ConvergenceWarning: Objective did not converge. You might want to increase the number of iterations, check the scale of the features or consider increasing regularisation. Duality gap: 6.748e+07, tolerance: 3.693e+05\n",
      "  model = cd_fast.enet_coordinate_descent(\n",
      "/Users/tylerholston/Desktop/151b-kaggle-competition/.venv/lib/python3.11/site-packages/sklearn/linear_model/_coordinate_descent.py:631: ConvergenceWarning: Objective did not converge. You might want to increase the number of iterations, check the scale of the features or consider increasing regularisation. Duality gap: 6.822e+07, tolerance: 3.787e+05\n",
      "  model = cd_fast.enet_coordinate_descent(\n",
      "/Users/tylerholston/Desktop/151b-kaggle-competition/.venv/lib/python3.11/site-packages/sklearn/linear_model/_coordinate_descent.py:631: ConvergenceWarning: Objective did not converge. You might want to increase the number of iterations, check the scale of the features or consider increasing regularisation. Duality gap: 7.642e+07, tolerance: 4.201e+05\n",
      "  model = cd_fast.enet_coordinate_descent(\n",
      "/Users/tylerholston/Desktop/151b-kaggle-competition/.venv/lib/python3.11/site-packages/sklearn/linear_model/_coordinate_descent.py:631: ConvergenceWarning: Objective did not converge. You might want to increase the number of iterations, check the scale of the features or consider increasing regularisation. Duality gap: 6.748e+07, tolerance: 3.693e+05\n",
      "  model = cd_fast.enet_coordinate_descent(\n",
      "/Users/tylerholston/Desktop/151b-kaggle-competition/.venv/lib/python3.11/site-packages/sklearn/linear_model/_coordinate_descent.py:631: ConvergenceWarning: Objective did not converge. You might want to increase the number of iterations, check the scale of the features or consider increasing regularisation. Duality gap: 6.822e+07, tolerance: 3.787e+05\n",
      "  model = cd_fast.enet_coordinate_descent(\n",
      "/Users/tylerholston/Desktop/151b-kaggle-competition/.venv/lib/python3.11/site-packages/sklearn/linear_model/_coordinate_descent.py:631: ConvergenceWarning: Objective did not converge. You might want to increase the number of iterations, check the scale of the features or consider increasing regularisation. Duality gap: 7.461e+07, tolerance: 4.159e+05\n",
      "  model = cd_fast.enet_coordinate_descent(\n",
      "/Users/tylerholston/Desktop/151b-kaggle-competition/.venv/lib/python3.11/site-packages/sklearn/linear_model/_coordinate_descent.py:631: ConvergenceWarning: Objective did not converge. You might want to increase the number of iterations, check the scale of the features or consider increasing regularisation. Duality gap: 7.536e+07, tolerance: 4.165e+05\n",
      "  model = cd_fast.enet_coordinate_descent(\n",
      "/Users/tylerholston/Desktop/151b-kaggle-competition/.venv/lib/python3.11/site-packages/sklearn/linear_model/_coordinate_descent.py:631: ConvergenceWarning: Objective did not converge. You might want to increase the number of iterations, check the scale of the features or consider increasing regularisation. Duality gap: 7.642e+07, tolerance: 4.201e+05\n",
      "  model = cd_fast.enet_coordinate_descent(\n",
      "/Users/tylerholston/Desktop/151b-kaggle-competition/.venv/lib/python3.11/site-packages/sklearn/linear_model/_coordinate_descent.py:631: ConvergenceWarning: Objective did not converge. You might want to increase the number of iterations, check the scale of the features or consider increasing regularisation. Duality gap: 6.749e+07, tolerance: 3.693e+05\n",
      "  model = cd_fast.enet_coordinate_descent(\n",
      "/Users/tylerholston/Desktop/151b-kaggle-competition/.venv/lib/python3.11/site-packages/sklearn/linear_model/_coordinate_descent.py:631: ConvergenceWarning: Objective did not converge. You might want to increase the number of iterations, check the scale of the features or consider increasing regularisation. Duality gap: 6.823e+07, tolerance: 3.787e+05\n",
      "  model = cd_fast.enet_coordinate_descent(\n",
      "/Users/tylerholston/Desktop/151b-kaggle-competition/.venv/lib/python3.11/site-packages/sklearn/linear_model/_coordinate_descent.py:631: ConvergenceWarning: Objective did not converge. You might want to increase the number of iterations, check the scale of the features or consider increasing regularisation. Duality gap: 6.824e+07, tolerance: 3.787e+05\n",
      "  model = cd_fast.enet_coordinate_descent(\n",
      "/Users/tylerholston/Desktop/151b-kaggle-competition/.venv/lib/python3.11/site-packages/sklearn/linear_model/_coordinate_descent.py:631: ConvergenceWarning: Objective did not converge. You might want to increase the number of iterations, check the scale of the features or consider increasing regularisation. Duality gap: 7.643e+07, tolerance: 4.201e+05\n",
      "  model = cd_fast.enet_coordinate_descent(\n",
      "/Users/tylerholston/Desktop/151b-kaggle-competition/.venv/lib/python3.11/site-packages/sklearn/linear_model/_coordinate_descent.py:631: ConvergenceWarning: Objective did not converge. You might want to increase the number of iterations, check the scale of the features or consider increasing regularisation. Duality gap: 6.749e+07, tolerance: 3.693e+05\n",
      "  model = cd_fast.enet_coordinate_descent(\n",
      "/Users/tylerholston/Desktop/151b-kaggle-competition/.venv/lib/python3.11/site-packages/sklearn/linear_model/_coordinate_descent.py:631: ConvergenceWarning: Objective did not converge. You might want to increase the number of iterations, check the scale of the features or consider increasing regularisation. Duality gap: 7.644e+07, tolerance: 4.201e+05\n",
      "  model = cd_fast.enet_coordinate_descent(\n",
      "/Users/tylerholston/Desktop/151b-kaggle-competition/.venv/lib/python3.11/site-packages/sklearn/linear_model/_coordinate_descent.py:631: ConvergenceWarning: Objective did not converge. You might want to increase the number of iterations, check the scale of the features or consider increasing regularisation. Duality gap: 6.750e+07, tolerance: 3.693e+05\n",
      "  model = cd_fast.enet_coordinate_descent(\n"
     ]
    },
    {
     "name": "stdout",
     "output_type": "stream",
     "text": [
      "Best CV score: 593.3799185880491\n",
      "{'alpha': 0.3727593720314938}\n"
     ]
    }
   ],
   "source": [
    "# Lasso\n",
    "from sklearn.linear_model import Lasso\n",
    "from sklearn.model_selection import GridSearchCV\n",
    "from sklearn.metrics import make_scorer\n",
    "\n",
    "rmse = make_scorer(lambda y_true, y_pred: root_mean_squared_error(y_true, y_pred), greater_is_better=False)\n",
    "X_train_sample, X_test_sample, y_train_sample, y_test_sample = train_test_split_sample(frac=0.01)\n",
    "\n",
    "lasso = Lasso()\n",
    "\n",
    "param_grid = {\n",
    "    'alpha': np.logspace(-5, 2, 50)\n",
    "}\n",
    "\n",
    "search = GridSearchCV(lasso, param_grid, n_jobs = -1, scoring=rmse)\n",
    "search.fit(X_train_sample, y_train_sample)\n",
    "\n",
    "print(f'Best CV score: {-1 * search.best_score_}')\n",
    "print(search.best_params_)"
   ]
  },
  {
   "cell_type": "code",
   "execution_count": 27,
   "metadata": {},
   "outputs": [
    {
     "data": {
      "text/plain": [
       "671.1443087427473"
      ]
     },
     "execution_count": 27,
     "metadata": {},
     "output_type": "execute_result"
    }
   ],
   "source": [
    "# Test Lasso\n",
    "lasso = Lasso(alpha = 0.3727593720314938)\n",
    "lasso.fit(X_train, y_train)\n",
    "y_pred = lasso.predict(X_test)\n",
    "\n",
    "root_mean_squared_error(y_test, y_pred)"
   ]
  },
  {
   "cell_type": "code",
   "execution_count": 28,
   "metadata": {},
   "outputs": [
    {
     "name": "stdout",
     "output_type": "stream",
     "text": [
      "Best CV score: 593.391937030348\n",
      "{'alpha': 51.79474679231202}\n"
     ]
    }
   ],
   "source": [
    "# Ridge\n",
    "from sklearn.linear_model import Ridge\n",
    "\n",
    "lasso = Ridge()\n",
    "\n",
    "param_grid = {\n",
    "    'alpha': np.logspace(-5, 2, 50)\n",
    "}\n",
    "\n",
    "search = GridSearchCV(lasso, param_grid, n_jobs = -1, scoring=rmse)\n",
    "search.fit(X_train_sample, y_train_sample)\n",
    "\n",
    "print(f'Best CV score: {-1 * search.best_score_}')\n",
    "print(search.best_params_)"
   ]
  },
  {
   "cell_type": "code",
   "execution_count": 29,
   "metadata": {},
   "outputs": [
    {
     "data": {
      "text/plain": [
       "671.0895985241863"
      ]
     },
     "execution_count": 29,
     "metadata": {},
     "output_type": "execute_result"
    }
   ],
   "source": [
    "# Test Ridge\n",
    "ridge = Ridge(alpha = 51.79474679231202)\n",
    "ridge.fit(X_train, y_train)\n",
    "y_pred = ridge.predict(X_test)\n",
    "\n",
    "root_mean_squared_error(y_test, y_pred)"
   ]
  },
  {
   "attachments": {},
   "cell_type": "markdown",
   "metadata": {},
   "source": [
    "#### Reviewing Linear Regression:\n",
    "* Linear Regression: 671.0856201370245\n",
    "* Lasso Regression: 671.1443087427473\n",
    "* Ridge Regression: 671.0895985241863"
   ]
  },
  {
   "attachments": {},
   "cell_type": "markdown",
   "metadata": {},
   "source": [
    "### Support Vector Machines (SVM)"
   ]
  },
  {
   "cell_type": "code",
   "execution_count": 23,
   "metadata": {},
   "outputs": [
    {
     "name": "stdout",
     "output_type": "stream",
     "text": [
      "Best CV score: 600.6364736351106\n",
      "{'C': 100.0, 'kernel': 'linear'}\n",
      "Best CV score: 602.4719756396436\n",
      "{'C': 56.23413251903491, 'degree': 1}\n"
     ]
    }
   ],
   "source": [
    "# !!!! SKIP THIS IF YOU DON'T WANT TO WAIT A LONG TIME !!!!\n",
    "\n",
    "# Running a SVM. Using 0.1% of original data runs in ~2mins on my laptop, 0.5% runs in ~23mins.\n",
    "# This can be skipped unless you really want to rerun it. 0.5% yielded:\n",
    "# Best CV score: 600.6364736351106\n",
    "# {'C': 100.0, 'kernel': 'linear'}\n",
    "# so just using this for now.\n",
    "\n",
    "\n",
    "from sklearn.svm import SVR\n",
    "\n",
    "X_train_sample, X_test_sample, y_train_sample, y_test_sample = train_test_split_sample(frac=0.005)\n",
    "\n",
    "svm = SVR()\n",
    "\n",
    "param_grid = {\n",
    "    'C': np.logspace(0, 2, 25),\n",
    "    'kernel': ['rbf', 'sigmoid', 'linear']\n",
    "}\n",
    "\n",
    "search = GridSearchCV(svm, param_grid, n_jobs = -1, scoring=rmse)\n",
    "search.fit(X_train_sample, y_train_sample)\n",
    "\n",
    "print(f'Best CV score: {-1 * search.best_score_}')\n",
    "print(search.best_params_)\n",
    "\n",
    "svm_poly = SVR(kernel = 'poly')\n",
    "\n",
    "param_grid = {\n",
    "    'C': np.logspace(0, 2, 25),\n",
    "    'degree': np.arange(1, 4)\n",
    "}\n",
    "\n",
    "search = GridSearchCV(svm, param_grid, n_jobs = -1, scoring=rmse)\n",
    "search.fit(X_train_sample, y_train_sample)\n",
    "\n",
    "print(f'Best CV score: {-1 * search.best_score_}')\n",
    "print(search.best_params_)"
   ]
  },
  {
   "cell_type": "code",
   "execution_count": 31,
   "metadata": {},
   "outputs": [
    {
     "data": {
      "text/plain": [
       "637.8973953407794"
      ]
     },
     "execution_count": 31,
     "metadata": {},
     "output_type": "execute_result"
    }
   ],
   "source": [
    "# Test the SVM\n",
    "from sklearn.svm import SVR\n",
    "svm = SVR(kernel = 'linear', C=100)\n",
    "\n",
    "svm.fit(X_train_sample, y_train_sample)\n",
    "y_pred = svm.predict(X_test_sample)\n",
    "\n",
    "root_mean_squared_error(y_test_sample, y_pred)"
   ]
  },
  {
   "cell_type": "code",
   "execution_count": 32,
   "metadata": {},
   "outputs": [
    {
     "data": {
      "text/plain": [
       "730.0220477768397"
      ]
     },
     "execution_count": 32,
     "metadata": {},
     "output_type": "execute_result"
    }
   ],
   "source": [
    "# That was good but does it generalize to another larger sample? - No -\n",
    "X_train_sample, X_test_sample, y_train_sample, y_test_sample = train_test_split_sample(frac=0.015)\n",
    "\n",
    "svm = SVR(kernel = 'linear', C=100)\n",
    "\n",
    "svm.fit(X_train_sample, y_train_sample)\n",
    "y_pred = svm.predict(X_test_sample)\n",
    "\n",
    "root_mean_squared_error(y_test_sample, y_pred)"
   ]
  },
  {
   "attachments": {},
   "cell_type": "markdown",
   "metadata": {},
   "source": [
    "#### Reviewing SVM:\n",
    "* SVM did well on 0.5% of data w/ RSME = 637.8973953407794\n",
    "* seemed to perform worse with more data (1.5%) w/ RSME = 730.0220477768397\n",
    "* could try some other sample sizes on not my shitty laptop"
   ]
  },
  {
   "attachments": {},
   "cell_type": "markdown",
   "metadata": {},
   "source": [
    "### Bagging"
   ]
  },
  {
   "cell_type": "code",
   "execution_count": 33,
   "metadata": {},
   "outputs": [
    {
     "name": "stderr",
     "output_type": "stream",
     "text": [
      "/Users/tylerholston/Desktop/151b-kaggle-competition/.venv/lib/python3.11/site-packages/joblib/externals/loky/process_executor.py:700: UserWarning: A worker stopped while some jobs were given to the executor. This can be caused by a too short worker timeout or by a memory leak.\n",
      "  warnings.warn(\n"
     ]
    },
    {
     "name": "stdout",
     "output_type": "stream",
     "text": [
      "Best CV score: 759.6824958854044\n",
      "{'n_estimators': 19}\n"
     ]
    }
   ],
   "source": [
    "# Bagging w/ Decision Trees\n",
    "from sklearn.ensemble import BaggingRegressor\n",
    "from sklearn.tree import DecisionTreeClassifier\n",
    "\n",
    "X_train_sample, X_test_sample, y_train_sample, y_test_sample = train_test_split_sample(frac=0.05)\n",
    "\n",
    "bag = BaggingRegressor(estimator = DecisionTreeClassifier(), random_state = 420)\n",
    "\n",
    "param_grid = {\n",
    "    'n_estimators': list(range(1,20))\n",
    "}\n",
    "\n",
    "search = GridSearchCV(bag, param_grid, n_jobs = -1, scoring = rmse)\n",
    "search.fit(X_train_sample, y_train_sample)\n",
    "\n",
    "print(f'Best CV score: {-1 * search.best_score_}')\n",
    "print(search.best_params_)"
   ]
  },
  {
   "cell_type": "code",
   "execution_count": 41,
   "metadata": {},
   "outputs": [
    {
     "data": {
      "text/plain": [
       "743.3402218019256"
      ]
     },
     "execution_count": 41,
     "metadata": {},
     "output_type": "execute_result"
    }
   ],
   "source": [
    "# Test the SVM\n",
    "bag = BaggingRegressor(estimator = DecisionTreeClassifier(), random_state = 420, n_estimators=19)\n",
    "\n",
    "bag.fit(X_train, y_train)\n",
    "y_pred = bag.predict(X_test)\n",
    "\n",
    "root_mean_squared_error(y_test, y_pred)"
   ]
  },
  {
   "attachments": {},
   "cell_type": "markdown",
   "metadata": {},
   "source": [
    "#### Reviewing Bagging:\n",
    "* RSME = 743.3402218019256 on all training data"
   ]
  },
  {
   "attachments": {},
   "cell_type": "markdown",
   "metadata": {},
   "source": [
    "### Random Forest"
   ]
  },
  {
   "cell_type": "code",
   "execution_count": 35,
   "metadata": {},
   "outputs": [
    {
     "name": "stdout",
     "output_type": "stream",
     "text": [
      "Best CV score: 647.7588569489957\n",
      "{'criterion': 'friedman_mse', 'n_estimators': 24}\n"
     ]
    }
   ],
   "source": [
    "# Random Forest\n",
    "from sklearn.ensemble import RandomForestRegressor\n",
    "\n",
    "X_train_sample, X_test_sample, y_train_sample, y_test_sample = train_test_split_sample(frac=0.001)\n",
    "\n",
    "rf = RandomForestRegressor(random_state=420)\n",
    "\n",
    "param_grid = {\n",
    "    'n_estimators': list(range(10,30)),\n",
    "    'criterion': ['squared_error', 'absolute_error', 'friedman_mse']\n",
    "}\n",
    "\n",
    "search = GridSearchCV(rf, param_grid, n_jobs = -1, scoring = rmse)\n",
    "search.fit(X_train_sample, y_train_sample)\n",
    "\n",
    "print(f'Best CV score: {-1 * search.best_score_}')\n",
    "print(search.best_params_)"
   ]
  },
  {
   "cell_type": "code",
   "execution_count": 37,
   "metadata": {},
   "outputs": [
    {
     "data": {
      "text/plain": [
       "709.0740712229938"
      ]
     },
     "execution_count": 37,
     "metadata": {},
     "output_type": "execute_result"
    }
   ],
   "source": [
    "# Test the Random Forest\n",
    "rf = RandomForestRegressor(random_state=420, criterion = 'friedman_mse', n_estimators = 24)\n",
    "\n",
    "rf.fit(X_train_sample, y_train_sample)\n",
    "y_pred = rf.predict(X_test_sample)\n",
    "\n",
    "root_mean_squared_error(y_test_sample, y_pred)"
   ]
  },
  {
   "cell_type": "code",
   "execution_count": 40,
   "metadata": {},
   "outputs": [
    {
     "data": {
      "text/plain": [
       "668.6428710752018"
      ]
     },
     "execution_count": 40,
     "metadata": {},
     "output_type": "execute_result"
    }
   ],
   "source": [
    "rf = RandomForestRegressor(random_state=420, criterion = 'friedman_mse', n_estimators = 24)\n",
    "\n",
    "rf.fit(X_train, y_train)\n",
    "y_pred = rf.predict(X_test)\n",
    "\n",
    "root_mean_squared_error(y_test, y_pred)"
   ]
  },
  {
   "attachments": {},
   "cell_type": "markdown",
   "metadata": {},
   "source": [
    "#### Reviewing Random Forest:\n",
    "* RSME = 668.6428710752018 on all training data\n",
    "* solid baseline to try and beat with deep learning"
   ]
  }
 ],
 "metadata": {
  "kernelspec": {
   "display_name": ".venv",
   "language": "python",
   "name": "python3"
  },
  "language_info": {
   "codemirror_mode": {
    "name": "ipython",
    "version": 3
   },
   "file_extension": ".py",
   "mimetype": "text/x-python",
   "name": "python",
   "nbconvert_exporter": "python",
   "pygments_lexer": "ipython3",
   "version": "3.11.2"
  },
  "orig_nbformat": 4
 },
 "nbformat": 4,
 "nbformat_minor": 2
}
