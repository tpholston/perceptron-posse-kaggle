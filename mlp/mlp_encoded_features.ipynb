{
 "cells": [
  {
   "cell_type": "code",
   "execution_count": 1,
   "metadata": {},
   "outputs": [
    {
     "name": "stdout",
     "output_type": "stream",
     "text": [
      "FILE: train_call_type_A.csv\n",
      "FILE: train_call_type_B.csv\n",
      "FILE: train_call_type_C.csv\n",
      "FILE: test_public.csv\n"
     ]
    }
   ],
   "source": [
    "import torch\n",
    "import torch.nn as nn\n",
    "import torchvision\n",
    "import pandas as pd\n",
    "import numpy as np\n",
    "import zipfile\n",
    "import io\n",
    "import pandas as pd\n",
    "import math\n",
    "from IPython.display import display\n",
    "from collections import defaultdict\n",
    "\n",
    "zipped_data_path = \"../data/clean_data/class-competition-cleaned.zip\"\n",
    "\n",
    "dataframes = defaultdict(pd.DataFrame)\n",
    "with zipfile.ZipFile(zipped_data_path, \"r\") as zipf:\n",
    "    for filename in zipf.namelist():\n",
    "        if filename.endswith(\".csv\"):\n",
    "            with zipf.open(filename) as f:\n",
    "                dataframes.update({ filename : pd.read_csv(io.TextIOWrapper(f)) })\n",
    "\n",
    "                # Lets take a look at the files\n",
    "                print(f\"FILE: {filename}\")\n",
    "                # If you want to see file info uncomment this:\n",
    "                # display(dataframes[filename].info())\n",
    "                # display(dataframes[filename].head())"
   ]
  },
  {
   "cell_type": "code",
   "execution_count": 4,
   "metadata": {},
   "outputs": [
    {
     "name": "stdout",
     "output_type": "stream",
     "text": [
      "cuda:0\n"
     ]
    }
   ],
   "source": [
    "train_data_A = dataframes[\"train_call_type_A.csv\"]\n",
    "train_data_B = dataframes[\"train_call_type_B.csv\"]\n",
    "train_data_C = dataframes[\"train_call_type_C.csv\"]\n",
    "test_data  = dataframes[\"test_public.csv\"]\n",
    "device = torch.device('cuda:0' if torch.cuda.is_available() else 'cpu')\n",
    "print(device)"
   ]
  },
  {
   "cell_type": "code",
   "execution_count": 3,
   "metadata": {},
   "outputs": [],
   "source": [
    "from sklearn.preprocessing import StandardScaler\n",
    "\n",
    "# Split the START_LOCATION into two new columns for latitude and longitude for train set\n",
    "for i, j in train_data_B['START_LOCATION'].items():\n",
    "    split = j.split(',')\n",
    "    train_data_B.at[i, 'START_LAT'] = split[0]\n",
    "    train_data_B.at[i, 'START_LONG'] = split[1]\n",
    "\n",
    "# Use only data points with CALL_TYPE B\n",
    "# Split the START_LOCATION into two new columns for latitude and longitude for test set\n",
    "for i, j in test_data['START_LOCATION'].items():\n",
    "    if not isinstance(j, str):\n",
    "        test_data.at[i, 'START_LAT'] = 41.1564349 # MEAN\n",
    "        test_data.at[i, 'START_LONG'] = -8.61451627 # MEAN\n",
    "    else:\n",
    "        split = j.split(',')\n",
    "        test_data.at[i, 'START_LAT'] = split[0]\n",
    "        test_data.at[i, 'START_LONG'] = split[1]\n",
    "\n",
    "latitude_train = pd.DataFrame(train_data_B['START_LAT'].astype(float))\n",
    "longitude_train = pd.DataFrame(train_data_B['START_LONG'].astype(float))\n",
    "latitude_test = pd.DataFrame(test_data['START_LAT'].astype(float))\n",
    "longitude_test = pd.DataFrame(test_data['START_LONG'].astype(float))\n",
    "\n",
    "lat_scaler = StandardScaler()\n",
    "lat_scaler.fit(latitude_train)\n",
    "\n",
    "normalized_latitude_train = lat_scaler.transform(latitude_train)\n",
    "normalized_latitude_test = lat_scaler.transform(latitude_test)\n",
    "\n",
    "long_scaler = StandardScaler()\n",
    "long_scaler.fit(longitude_train)\n",
    "\n",
    "normalized_longitude_train = long_scaler.transform(longitude_train)\n",
    "normalized_longitude_test = long_scaler.transform(longitude_test)\n",
    "\n",
    "train_data_B.loc[:, 'START_LAT_NORMALIZED'] = normalized_latitude_train\n",
    "train_data_B.loc[:, 'START_LONG_NORMALIZED'] = normalized_longitude_train\n",
    "test_data.loc[:, 'START_LAT_NORMALIZED'] = normalized_latitude_test\n",
    "test_data.loc[:, 'START_LONG_NORMALIZED'] = normalized_longitude_test"
   ]
  },
  {
   "cell_type": "code",
   "execution_count": 156,
   "metadata": {},
   "outputs": [],
   "source": [
    "merged_df = pd.merge(train_data_A.drop('START_LOCATION', axis=1), train_data_B, how='outer')\n",
    "merged_df = pd.merge(merged_df, train_data_C.drop('START_LOCATION', axis=1), how='outer')\n",
    "\n",
    "merged_df['START_LONG_NORMALIZED'].fillna(train_data_B['START_LONG_NORMALIZED'].mean(), inplace=True)\n",
    "merged_df['START_LAT_NORMALIZED'].fillna(train_data_B['START_LAT_NORMALIZED'].mean(), inplace=True)"
   ]
  },
  {
   "cell_type": "code",
   "execution_count": 157,
   "metadata": {},
   "outputs": [],
   "source": [
    "from sklearn.preprocessing import LabelEncoder\n",
    "\n",
    "def encode(col, train, test):\n",
    "\tlabelEncoder = LabelEncoder()\n",
    "\n",
    "\ttrain_vals, test_vals = train[col].copy(), test[col].copy()\n",
    "\ttrain_vals[np.isnan(train_vals)], test_vals[np.isnan(test_vals)] = 0, 0\n",
    "\tmerge = pd.concat([train_vals, test_vals])\n",
    "\n",
    "\tlabelEncoder.fit(merge)\n",
    "\t\n",
    "\ttrain[col + \"_ENCODED\"] = labelEncoder.transform(train_vals)\n",
    "\ttest[col + \"_ENCODED\"] = labelEncoder.transform(test_vals)\n",
    "\treturn labelEncoder\n",
    "\n",
    "taxi_id_encoder = encode('TAXI_ID', merged_df, test_data)\n",
    "origin_call_encoder = encode('ORIGIN_CALL', merged_df, test_data)\n",
    "origin_stand_encoder = encode('ORIGIN_STAND', merged_df, test_data)"
   ]
  },
  {
   "cell_type": "code",
   "execution_count": 161,
   "metadata": {},
   "outputs": [],
   "source": [
    "from sklearn.model_selection import train_test_split\n",
    "\n",
    "# We could totally change this. Utilization of these just probably requires further preprocessing.\n",
    "ALL_FEATURES_NOT_SUITED_FOR_ESTIMATION = ['TRIP_ID', 'CALL_TYPE', 'ORIGIN_CALL', 'ORIGIN_STAND', 'POLYLINE', 'START_LOCATION', 'TAXI_ID', 'START_LAT', 'START_LONG',  'DATE', 'YR_2013']\n",
    "\n",
    "X = merged_df.drop(\"TRAVEL_TIME\", axis=1)\n",
    "X = X.loc[:, ~X.columns.isin(ALL_FEATURES_NOT_SUITED_FOR_ESTIMATION)]\n",
    "y = merged_df[\"TRAVEL_TIME\"]\n",
    "X_train, X_test, y_train, y_test = train_test_split(X, y, test_size=0.02, random_state=420, shuffle=True)\n",
    "\n",
    "test_features = test_data.loc[:, ~test_data.columns.isin(ALL_FEATURES_NOT_SUITED_FOR_ESTIMATION)]"
   ]
  },
  {
   "cell_type": "code",
   "execution_count": 162,
   "metadata": {},
   "outputs": [
    {
     "data": {
      "text/plain": [
       "702.4254278472528"
      ]
     },
     "execution_count": 162,
     "metadata": {},
     "output_type": "execute_result"
    }
   ],
   "source": [
    "y.mean()"
   ]
  },
  {
   "cell_type": "code",
   "execution_count": 163,
   "metadata": {},
   "outputs": [
    {
     "name": "stdout",
     "output_type": "stream",
     "text": [
      "<class 'pandas.core.frame.DataFrame'>\n",
      "RangeIndex: 286434 entries, 0 to 286433\n",
      "Data columns (total 20 columns):\n",
      " #   Column                 Non-Null Count   Dtype  \n",
      "---  ------                 --------------   -----  \n",
      " 0   Unnamed: 0             286434 non-null  int64  \n",
      " 1   TIMESTAMP              286434 non-null  int64  \n",
      " 2   MON_sin                286434 non-null  float64\n",
      " 3   MON_cos                286434 non-null  float64\n",
      " 4   DAY_sin                286434 non-null  float64\n",
      " 5   DAY_cos                286434 non-null  float64\n",
      " 6   HR_sin                 286434 non-null  float64\n",
      " 7   HR_cos                 286434 non-null  float64\n",
      " 8   WK_sin                 286434 non-null  float64\n",
      " 9   WK_cos                 286434 non-null  float64\n",
      " 10  DATE_2014-08-14        286434 non-null  bool   \n",
      " 11  DATE_2014-09-30        286434 non-null  bool   \n",
      " 12  DATE_2014-10-06        286434 non-null  bool   \n",
      " 13  DATE_2014-10-31        286434 non-null  bool   \n",
      " 14  DATE_2014-12-21        286434 non-null  bool   \n",
      " 15  START_LAT_NORMALIZED   286434 non-null  float64\n",
      " 16  START_LONG_NORMALIZED  286434 non-null  float64\n",
      " 17  TAXI_ID_ENCODED        286434 non-null  int64  \n",
      " 18  ORIGIN_CALL_ENCODED    286434 non-null  int64  \n",
      " 19  ORIGIN_STAND_ENCODED   286434 non-null  int64  \n",
      "dtypes: bool(5), float64(10), int64(5)\n",
      "memory usage: 34.1 MB\n"
     ]
    }
   ],
   "source": [
    "X.info()"
   ]
  },
  {
   "cell_type": "code",
   "execution_count": 166,
   "metadata": {},
   "outputs": [],
   "source": [
    "from torch.utils.data import DataLoader, Dataset\n",
    "from mlp_utils import TaxiDataset\n",
    "\n",
    "# Separate the boolean columns\n",
    "boolean_cols = ['DATE_2014-08-14','DATE_2014-09-30','DATE_2014-10-06','DATE_2014-10-31','DATE_2014-12-21']\n",
    "\n",
    "# Separate the float columns\n",
    "float_cols = ['DAY_sin', 'DAY_cos', 'HR_sin', 'HR_cos', 'WK_sin', 'WK_cos', 'MON_sin', 'MON_cos', 'START_LAT_NORMALIZED', 'START_LONG_NORMALIZED',]\n",
    "\n",
    "# Separate the encoded columns\n",
    "encoded_cols = ['TAXI_ID_ENCODED', 'ORIGIN_CALL_ENCODED', 'ORIGIN_STAND_ENCODED']\n",
    "\n",
    "# Boolean columns\n",
    "train_boolean_data = X_train[boolean_cols].astype(int).values\n",
    "test_boolean_data = X_test[boolean_cols].astype(int).values\n",
    "test_public_boolean_data = test_features[boolean_cols].astype(int).values\n",
    "\n",
    "# Float columns\n",
    "train_float_data = X_train[float_cols].astype(float).values\n",
    "test_float_data = X_test[float_cols].astype(int).values\n",
    "test_public_float_data = test_features[float_cols].astype(int).values\n",
    "\n",
    "# Encoded columns\n",
    "train_encoded_data = X_train[encoded_cols].astype(int).values\n",
    "test_encoded_data = X_test[encoded_cols].astype(int).values\n",
    "test_public_encoded_data = test_features[encoded_cols].astype(int).values\n",
    "\n",
    "train_concat = np.concatenate((train_boolean_data, train_float_data, train_encoded_data), axis=1)\n",
    "test_concat = np.concatenate((test_boolean_data, test_float_data, test_encoded_data), axis=1)\n",
    "test_public_concat = np.concatenate((test_public_boolean_data, test_public_float_data, test_public_encoded_data), axis=1)\n",
    "\n",
    "X_train_tensor = torch.tensor(train_concat, dtype=torch.float32)\n",
    "y_train_tensor = torch.tensor(y_train.tolist(), dtype=torch.float32)\n",
    "X_test_tensor = torch.tensor(test_concat, dtype=torch.float32)\n",
    "y_test_tensor = torch.tensor(y_test.tolist(), dtype=torch.float32)\n",
    "X_test_public_tensor = torch.tensor(test_public_concat, dtype=torch.float32)\n",
    "\n",
    "train_dataset = TaxiDataset(X_train_tensor, y_train_tensor)\n",
    "test_dataset = TaxiDataset(X_test_tensor, y_test_tensor)\n",
    "test_public_dataset = TaxiDataset(X_test_public_tensor)\n",
    "\n",
    "batch_size = 256\n",
    "\n",
    "dataloader_train = DataLoader(train_dataset, batch_size=batch_size, shuffle=True)\n",
    "dataloader_test = DataLoader(test_dataset, batch_size=batch_size, shuffle=True)\n",
    "dataloader_pred = DataLoader(test_public_dataset, batch_size=batch_size)"
   ]
  },
  {
   "cell_type": "code",
   "execution_count": 169,
   "metadata": {},
   "outputs": [],
   "source": [
    "import torch.nn.functional as F\n",
    "\n",
    "class MLP(nn.Module):\n",
    "  '''\n",
    "    Multilayer Perceptron for regression.\n",
    "  '''\n",
    "  def __init__(self):\n",
    "    super().__init__()\n",
    "    self.embed_taxi_id = nn.Embedding(len(taxi_id_encoder.classes_), 20)\n",
    "    self.embed_origin_call = nn.Embedding(len(origin_call_encoder.classes_), 20)\n",
    "    self.embed_origin_stand = nn.Embedding(len(origin_stand_encoder.classes_), 20)\n",
    "    self.dropout1 = nn.Dropout(0.5)\n",
    "    self.fc1 = nn.Linear(75, 128)\n",
    "    self.dropout2 = nn.Dropout(0.5)\n",
    "    self.fc2 = nn.Linear(128, 64)\n",
    "    self.dropout3 = nn.Dropout(0.5)\n",
    "    self.fc3 = nn.Linear(64, 32)\n",
    "    self.dropout4 = nn.Dropout(0.3)\n",
    "    self.fc4 = nn.Linear(32, 16)\n",
    "    self.fc5 = nn.Linear(16, 1)\n",
    "\n",
    "  def forward(self, x):\n",
    "    '''\n",
    "      Forward pass\n",
    "    '''\n",
    "    taxi_id = self.embed_taxi_id(x[:, -3].to(torch.int32))\n",
    "    origin_call = self.embed_origin_call(x[:, -2].to(torch.int32))\n",
    "    origin_stand = self.embed_origin_stand(x[:, -1].to(torch.int32))\n",
    "    x = torch.cat([taxi_id, origin_call, origin_stand, x[:, :-3]], axis=1).to(torch.float32)\n",
    "    x = self.dropout1(x)\n",
    "    x = F.relu(self.fc1(x))\n",
    "    x = self.dropout2(x)\n",
    "    x = F.relu(self.fc2(x))\n",
    "    x = self.dropout3(x)\n",
    "    x = F.relu(self.fc3(x))\n",
    "    x = self.dropout4(x)\n",
    "    x = F.relu(self.fc4(x))\n",
    "    x = self.fc5(x)\n",
    "    return x"
   ]
  },
  {
   "cell_type": "code",
   "execution_count": 170,
   "metadata": {},
   "outputs": [
    {
     "data": {
      "text/plain": [
       "437289"
      ]
     },
     "execution_count": 170,
     "metadata": {},
     "output_type": "execute_result"
    }
   ],
   "source": [
    "from mlp_utils import num_parameters\n",
    "\n",
    "mlp = MLP()\n",
    "if torch.cuda.is_available():\n",
    "    mlp.cuda()\n",
    " \n",
    "num_parameters(mlp)"
   ]
  },
  {
   "cell_type": "code",
   "execution_count": 171,
   "metadata": {},
   "outputs": [
    {
     "name": "stderr",
     "output_type": "stream",
     "text": [
      "  1%|          | 1/100 [00:06<10:27,  6.34s/it]"
     ]
    },
    {
     "name": "stdout",
     "output_type": "stream",
     "text": [
      "Epoch 1 - Train Loss = 488.60946335788987\n"
     ]
    },
    {
     "name": "stderr",
     "output_type": "stream",
     "text": [
      "  2%|▏         | 2/100 [00:12<09:55,  6.08s/it]"
     ]
    },
    {
     "name": "stdout",
     "output_type": "stream",
     "text": [
      "Epoch 2 - Train Loss = 449.9211962708646\n"
     ]
    },
    {
     "name": "stderr",
     "output_type": "stream",
     "text": [
      "  3%|▎         | 3/100 [00:18<09:41,  6.00s/it]"
     ]
    },
    {
     "name": "stdout",
     "output_type": "stream",
     "text": [
      "Epoch 3 - Train Loss = 445.79503856252387\n"
     ]
    },
    {
     "name": "stderr",
     "output_type": "stream",
     "text": [
      "  4%|▍         | 4/100 [00:24<09:39,  6.04s/it]"
     ]
    },
    {
     "name": "stdout",
     "output_type": "stream",
     "text": [
      "Epoch 4 - Train Loss = 442.9435866312829\n"
     ]
    },
    {
     "name": "stderr",
     "output_type": "stream",
     "text": [
      "  5%|▌         | 5/100 [00:30<09:36,  6.07s/it]"
     ]
    },
    {
     "name": "stdout",
     "output_type": "stream",
     "text": [
      "Epoch 5 - Train Loss = 440.2012243035047\n"
     ]
    },
    {
     "name": "stderr",
     "output_type": "stream",
     "text": [
      "  6%|▌         | 6/100 [00:36<09:26,  6.03s/it]"
     ]
    },
    {
     "name": "stdout",
     "output_type": "stream",
     "text": [
      "Epoch 6 - Train Loss = 437.73324653938676\n"
     ]
    },
    {
     "name": "stderr",
     "output_type": "stream",
     "text": [
      "  7%|▋         | 7/100 [00:42<09:19,  6.02s/it]"
     ]
    },
    {
     "name": "stdout",
     "output_type": "stream",
     "text": [
      "Epoch 7 - Train Loss = 434.96490568470205\n"
     ]
    },
    {
     "name": "stderr",
     "output_type": "stream",
     "text": [
      "  8%|▊         | 8/100 [00:48<09:12,  6.01s/it]"
     ]
    },
    {
     "name": "stdout",
     "output_type": "stream",
     "text": [
      "Epoch 8 - Train Loss = 431.9983821933781\n"
     ]
    },
    {
     "name": "stderr",
     "output_type": "stream",
     "text": [
      "  9%|▉         | 9/100 [00:54<09:06,  6.00s/it]"
     ]
    },
    {
     "name": "stdout",
     "output_type": "stream",
     "text": [
      "Epoch 9 - Train Loss = 429.0523086112806\n"
     ]
    },
    {
     "name": "stderr",
     "output_type": "stream",
     "text": [
      " 10%|█         | 10/100 [01:00<09:03,  6.03s/it]"
     ]
    },
    {
     "name": "stdout",
     "output_type": "stream",
     "text": [
      "Epoch 10 - Train Loss = 426.464918779869\n"
     ]
    },
    {
     "name": "stderr",
     "output_type": "stream",
     "text": [
      " 11%|█         | 11/100 [01:06<08:53,  6.00s/it]"
     ]
    },
    {
     "name": "stdout",
     "output_type": "stream",
     "text": [
      "Epoch 11 - Train Loss = 424.5854873218413\n"
     ]
    },
    {
     "name": "stderr",
     "output_type": "stream",
     "text": [
      " 12%|█▏        | 12/100 [01:12<08:41,  5.92s/it]"
     ]
    },
    {
     "name": "stdout",
     "output_type": "stream",
     "text": [
      "Epoch 12 - Train Loss = 422.85099772706184\n"
     ]
    },
    {
     "name": "stderr",
     "output_type": "stream",
     "text": [
      " 13%|█▎        | 13/100 [01:17<08:33,  5.90s/it]"
     ]
    },
    {
     "name": "stdout",
     "output_type": "stream",
     "text": [
      "Epoch 13 - Train Loss = 421.86877996022366\n"
     ]
    },
    {
     "name": "stderr",
     "output_type": "stream",
     "text": [
      " 14%|█▍        | 14/100 [01:23<08:31,  5.95s/it]"
     ]
    },
    {
     "name": "stdout",
     "output_type": "stream",
     "text": [
      "Epoch 14 - Train Loss = 420.73849692921686\n"
     ]
    },
    {
     "name": "stderr",
     "output_type": "stream",
     "text": [
      " 15%|█▌        | 15/100 [01:29<08:23,  5.92s/it]"
     ]
    },
    {
     "name": "stdout",
     "output_type": "stream",
     "text": [
      "Epoch 15 - Train Loss = 419.5792586391027\n"
     ]
    },
    {
     "name": "stderr",
     "output_type": "stream",
     "text": [
      " 16%|█▌        | 16/100 [01:35<08:15,  5.90s/it]"
     ]
    },
    {
     "name": "stdout",
     "output_type": "stream",
     "text": [
      "Epoch 16 - Train Loss = 418.571558890103\n"
     ]
    },
    {
     "name": "stderr",
     "output_type": "stream",
     "text": [
      " 17%|█▋        | 17/100 [01:41<08:10,  5.91s/it]"
     ]
    },
    {
     "name": "stdout",
     "output_type": "stream",
     "text": [
      "Epoch 17 - Train Loss = 417.50107238097746\n"
     ]
    },
    {
     "name": "stderr",
     "output_type": "stream",
     "text": [
      " 18%|█▊        | 18/100 [01:47<08:05,  5.92s/it]"
     ]
    },
    {
     "name": "stdout",
     "output_type": "stream",
     "text": [
      "Epoch 18 - Train Loss = 416.3879753090132\n"
     ]
    },
    {
     "name": "stderr",
     "output_type": "stream",
     "text": [
      " 19%|█▉        | 19/100 [01:53<08:00,  5.93s/it]"
     ]
    },
    {
     "name": "stdout",
     "output_type": "stream",
     "text": [
      "Epoch 19 - Train Loss = 415.17140749504046\n"
     ]
    },
    {
     "name": "stderr",
     "output_type": "stream",
     "text": [
      " 20%|██        | 20/100 [01:59<07:56,  5.96s/it]"
     ]
    },
    {
     "name": "stdout",
     "output_type": "stream",
     "text": [
      "Epoch 20 - Train Loss = 414.55785432651993\n"
     ]
    },
    {
     "name": "stderr",
     "output_type": "stream",
     "text": [
      " 21%|██        | 21/100 [02:05<07:52,  5.98s/it]"
     ]
    },
    {
     "name": "stdout",
     "output_type": "stream",
     "text": [
      "Epoch 21 - Train Loss = 413.4984493619923\n"
     ]
    },
    {
     "name": "stderr",
     "output_type": "stream",
     "text": [
      " 22%|██▏       | 22/100 [02:11<07:44,  5.96s/it]"
     ]
    },
    {
     "name": "stdout",
     "output_type": "stream",
     "text": [
      "Epoch 22 - Train Loss = 412.7777730570319\n"
     ]
    },
    {
     "name": "stderr",
     "output_type": "stream",
     "text": [
      " 23%|██▎       | 23/100 [02:17<07:36,  5.93s/it]"
     ]
    },
    {
     "name": "stdout",
     "output_type": "stream",
     "text": [
      "Epoch 23 - Train Loss = 412.11528399191644\n"
     ]
    },
    {
     "name": "stderr",
     "output_type": "stream",
     "text": [
      " 24%|██▍       | 24/100 [02:23<07:28,  5.90s/it]"
     ]
    },
    {
     "name": "stdout",
     "output_type": "stream",
     "text": [
      "Epoch 24 - Train Loss = 411.13613525352037\n"
     ]
    },
    {
     "name": "stderr",
     "output_type": "stream",
     "text": [
      " 25%|██▌       | 25/100 [02:29<07:21,  5.89s/it]"
     ]
    },
    {
     "name": "stdout",
     "output_type": "stream",
     "text": [
      "Epoch 25 - Train Loss = 410.4842292097499\n"
     ]
    },
    {
     "name": "stderr",
     "output_type": "stream",
     "text": [
      " 26%|██▌       | 26/100 [02:34<07:17,  5.91s/it]"
     ]
    },
    {
     "name": "stdout",
     "output_type": "stream",
     "text": [
      "Epoch 26 - Train Loss = 409.84420823727413\n"
     ]
    },
    {
     "name": "stderr",
     "output_type": "stream",
     "text": [
      " 27%|██▋       | 27/100 [02:40<07:09,  5.89s/it]"
     ]
    },
    {
     "name": "stdout",
     "output_type": "stream",
     "text": [
      "Epoch 27 - Train Loss = 409.37741773347165\n"
     ]
    },
    {
     "name": "stderr",
     "output_type": "stream",
     "text": [
      " 28%|██▊       | 28/100 [02:46<07:04,  5.90s/it]"
     ]
    },
    {
     "name": "stdout",
     "output_type": "stream",
     "text": [
      "Epoch 28 - Train Loss = 408.615627932914\n"
     ]
    },
    {
     "name": "stderr",
     "output_type": "stream",
     "text": [
      " 29%|██▉       | 29/100 [02:52<06:59,  5.90s/it]"
     ]
    },
    {
     "name": "stdout",
     "output_type": "stream",
     "text": [
      "Epoch 29 - Train Loss = 408.3496102767763\n"
     ]
    },
    {
     "name": "stderr",
     "output_type": "stream",
     "text": [
      " 30%|███       | 30/100 [02:58<06:54,  5.92s/it]"
     ]
    },
    {
     "name": "stdout",
     "output_type": "stream",
     "text": [
      "Epoch 30 - Train Loss = 407.9940296190166\n"
     ]
    },
    {
     "name": "stderr",
     "output_type": "stream",
     "text": [
      " 31%|███       | 31/100 [03:04<06:48,  5.91s/it]"
     ]
    },
    {
     "name": "stdout",
     "output_type": "stream",
     "text": [
      "Epoch 31 - Train Loss = 407.5775416564096\n"
     ]
    },
    {
     "name": "stderr",
     "output_type": "stream",
     "text": [
      " 32%|███▏      | 32/100 [03:10<06:40,  5.89s/it]"
     ]
    },
    {
     "name": "stdout",
     "output_type": "stream",
     "text": [
      "Epoch 32 - Train Loss = 407.0375408116022\n"
     ]
    },
    {
     "name": "stderr",
     "output_type": "stream",
     "text": [
      " 33%|███▎      | 33/100 [03:16<06:37,  5.93s/it]"
     ]
    },
    {
     "name": "stdout",
     "output_type": "stream",
     "text": [
      "Epoch 33 - Train Loss = 406.84897977877\n"
     ]
    },
    {
     "name": "stderr",
     "output_type": "stream",
     "text": [
      " 34%|███▍      | 34/100 [03:22<06:32,  5.95s/it]"
     ]
    },
    {
     "name": "stdout",
     "output_type": "stream",
     "text": [
      "Epoch 34 - Train Loss = 406.4742586004644\n"
     ]
    },
    {
     "name": "stderr",
     "output_type": "stream",
     "text": [
      " 35%|███▌      | 35/100 [03:28<06:28,  5.98s/it]"
     ]
    },
    {
     "name": "stdout",
     "output_type": "stream",
     "text": [
      "Epoch 35 - Train Loss = 406.1673906612325\n"
     ]
    },
    {
     "name": "stderr",
     "output_type": "stream",
     "text": [
      " 36%|███▌      | 36/100 [03:34<06:22,  5.98s/it]"
     ]
    },
    {
     "name": "stdout",
     "output_type": "stream",
     "text": [
      "Epoch 36 - Train Loss = 405.7403347655251\n"
     ]
    },
    {
     "name": "stderr",
     "output_type": "stream",
     "text": [
      " 37%|███▋      | 37/100 [03:40<06:16,  5.98s/it]"
     ]
    },
    {
     "name": "stdout",
     "output_type": "stream",
     "text": [
      "Epoch 37 - Train Loss = 405.44712370620977\n"
     ]
    },
    {
     "name": "stderr",
     "output_type": "stream",
     "text": [
      " 38%|███▊      | 38/100 [03:46<06:06,  5.92s/it]"
     ]
    },
    {
     "name": "stdout",
     "output_type": "stream",
     "text": [
      "Epoch 38 - Train Loss = 405.0818597760057\n"
     ]
    },
    {
     "name": "stderr",
     "output_type": "stream",
     "text": [
      " 39%|███▉      | 39/100 [03:52<05:59,  5.90s/it]"
     ]
    },
    {
     "name": "stdout",
     "output_type": "stream",
     "text": [
      "Epoch 39 - Train Loss = 404.95937914382466\n"
     ]
    },
    {
     "name": "stderr",
     "output_type": "stream",
     "text": [
      " 40%|████      | 40/100 [03:57<05:53,  5.89s/it]"
     ]
    },
    {
     "name": "stdout",
     "output_type": "stream",
     "text": [
      "Epoch 40 - Train Loss = 404.59858107483666\n"
     ]
    },
    {
     "name": "stderr",
     "output_type": "stream",
     "text": [
      " 41%|████      | 41/100 [04:03<05:47,  5.90s/it]"
     ]
    },
    {
     "name": "stdout",
     "output_type": "stream",
     "text": [
      "Epoch 41 - Train Loss = 404.3119418409933\n"
     ]
    },
    {
     "name": "stderr",
     "output_type": "stream",
     "text": [
      " 42%|████▏     | 42/100 [04:09<05:41,  5.89s/it]"
     ]
    },
    {
     "name": "stdout",
     "output_type": "stream",
     "text": [
      "Epoch 42 - Train Loss = 404.16033955501234\n"
     ]
    },
    {
     "name": "stderr",
     "output_type": "stream",
     "text": [
      " 43%|████▎     | 43/100 [04:15<05:35,  5.88s/it]"
     ]
    },
    {
     "name": "stdout",
     "output_type": "stream",
     "text": [
      "Epoch 43 - Train Loss = 403.8562920297392\n"
     ]
    },
    {
     "name": "stderr",
     "output_type": "stream",
     "text": [
      " 44%|████▍     | 44/100 [04:21<05:28,  5.86s/it]"
     ]
    },
    {
     "name": "stdout",
     "output_type": "stream",
     "text": [
      "Epoch 44 - Train Loss = 403.7579509265638\n"
     ]
    },
    {
     "name": "stderr",
     "output_type": "stream",
     "text": [
      " 45%|████▌     | 45/100 [04:27<05:22,  5.86s/it]"
     ]
    },
    {
     "name": "stdout",
     "output_type": "stream",
     "text": [
      "Epoch 45 - Train Loss = 403.53306791609725\n"
     ]
    },
    {
     "name": "stderr",
     "output_type": "stream",
     "text": [
      " 46%|████▌     | 46/100 [04:33<05:16,  5.86s/it]"
     ]
    },
    {
     "name": "stdout",
     "output_type": "stream",
     "text": [
      "Epoch 46 - Train Loss = 403.5509830712656\n"
     ]
    },
    {
     "name": "stderr",
     "output_type": "stream",
     "text": [
      " 47%|████▋     | 47/100 [04:39<05:11,  5.88s/it]"
     ]
    },
    {
     "name": "stdout",
     "output_type": "stream",
     "text": [
      "Epoch 47 - Train Loss = 403.1898793480347\n"
     ]
    },
    {
     "name": "stderr",
     "output_type": "stream",
     "text": [
      " 48%|████▊     | 48/100 [04:44<05:05,  5.88s/it]"
     ]
    },
    {
     "name": "stdout",
     "output_type": "stream",
     "text": [
      "Epoch 48 - Train Loss = 403.034524209552\n"
     ]
    },
    {
     "name": "stderr",
     "output_type": "stream",
     "text": [
      " 49%|████▉     | 49/100 [04:50<05:00,  5.88s/it]"
     ]
    },
    {
     "name": "stdout",
     "output_type": "stream",
     "text": [
      "Epoch 49 - Train Loss = 402.8815526402054\n"
     ]
    },
    {
     "name": "stderr",
     "output_type": "stream",
     "text": [
      " 50%|█████     | 50/100 [04:56<04:55,  5.91s/it]"
     ]
    },
    {
     "name": "stdout",
     "output_type": "stream",
     "text": [
      "Epoch 50 - Train Loss = 402.4864744786064\n"
     ]
    },
    {
     "name": "stderr",
     "output_type": "stream",
     "text": [
      " 51%|█████     | 51/100 [05:02<04:47,  5.88s/it]"
     ]
    },
    {
     "name": "stdout",
     "output_type": "stream",
     "text": [
      "Epoch 51 - Train Loss = 402.27290856303614\n"
     ]
    },
    {
     "name": "stderr",
     "output_type": "stream",
     "text": [
      " 52%|█████▏    | 52/100 [05:08<04:41,  5.87s/it]"
     ]
    },
    {
     "name": "stdout",
     "output_type": "stream",
     "text": [
      "Epoch 52 - Train Loss = 401.99974995223164\n"
     ]
    },
    {
     "name": "stderr",
     "output_type": "stream",
     "text": [
      " 53%|█████▎    | 53/100 [05:14<04:36,  5.88s/it]"
     ]
    },
    {
     "name": "stdout",
     "output_type": "stream",
     "text": [
      "Epoch 53 - Train Loss = 402.22115019401974\n"
     ]
    },
    {
     "name": "stderr",
     "output_type": "stream",
     "text": [
      " 54%|█████▍    | 54/100 [05:20<04:31,  5.90s/it]"
     ]
    },
    {
     "name": "stdout",
     "output_type": "stream",
     "text": [
      "Epoch 54 - Train Loss = 401.9381024832521\n"
     ]
    },
    {
     "name": "stderr",
     "output_type": "stream",
     "text": [
      " 55%|█████▌    | 55/100 [05:26<04:25,  5.91s/it]"
     ]
    },
    {
     "name": "stdout",
     "output_type": "stream",
     "text": [
      "Epoch 55 - Train Loss = 401.7609139587361\n"
     ]
    },
    {
     "name": "stderr",
     "output_type": "stream",
     "text": [
      " 56%|█████▌    | 56/100 [05:32<04:20,  5.91s/it]"
     ]
    },
    {
     "name": "stdout",
     "output_type": "stream",
     "text": [
      "Epoch 56 - Train Loss = 401.75817558783245\n"
     ]
    },
    {
     "name": "stderr",
     "output_type": "stream",
     "text": [
      " 57%|█████▋    | 57/100 [05:37<04:12,  5.87s/it]"
     ]
    },
    {
     "name": "stdout",
     "output_type": "stream",
     "text": [
      "Epoch 57 - Train Loss = 401.28882996253526\n"
     ]
    },
    {
     "name": "stderr",
     "output_type": "stream",
     "text": [
      " 58%|█████▊    | 58/100 [05:43<04:07,  5.89s/it]"
     ]
    },
    {
     "name": "stdout",
     "output_type": "stream",
     "text": [
      "Epoch 58 - Train Loss = 401.44392893581187\n"
     ]
    },
    {
     "name": "stderr",
     "output_type": "stream",
     "text": [
      " 59%|█████▉    | 59/100 [05:49<04:01,  5.90s/it]"
     ]
    },
    {
     "name": "stdout",
     "output_type": "stream",
     "text": [
      "Epoch 59 - Train Loss = 401.136998525976\n"
     ]
    },
    {
     "name": "stderr",
     "output_type": "stream",
     "text": [
      " 60%|██████    | 60/100 [05:55<03:56,  5.90s/it]"
     ]
    },
    {
     "name": "stdout",
     "output_type": "stream",
     "text": [
      "Epoch 60 - Train Loss = 401.0157961157294\n"
     ]
    },
    {
     "name": "stderr",
     "output_type": "stream",
     "text": [
      " 61%|██████    | 61/100 [06:01<03:52,  5.96s/it]"
     ]
    },
    {
     "name": "stdout",
     "output_type": "stream",
     "text": [
      "Epoch 61 - Train Loss = 400.9102677852409\n"
     ]
    },
    {
     "name": "stderr",
     "output_type": "stream",
     "text": [
      " 62%|██████▏   | 62/100 [06:07<03:45,  5.93s/it]"
     ]
    },
    {
     "name": "stdout",
     "output_type": "stream",
     "text": [
      "Epoch 62 - Train Loss = 400.8547221301567\n"
     ]
    },
    {
     "name": "stderr",
     "output_type": "stream",
     "text": [
      " 63%|██████▎   | 63/100 [06:13<03:38,  5.91s/it]"
     ]
    },
    {
     "name": "stdout",
     "output_type": "stream",
     "text": [
      "Epoch 63 - Train Loss = 400.7016596267504\n"
     ]
    },
    {
     "name": "stderr",
     "output_type": "stream",
     "text": [
      " 64%|██████▍   | 64/100 [06:19<03:33,  5.93s/it]"
     ]
    },
    {
     "name": "stdout",
     "output_type": "stream",
     "text": [
      "Epoch 64 - Train Loss = 400.6254819551779\n"
     ]
    },
    {
     "name": "stderr",
     "output_type": "stream",
     "text": [
      " 65%|██████▌   | 65/100 [06:25<03:27,  5.93s/it]"
     ]
    },
    {
     "name": "stdout",
     "output_type": "stream",
     "text": [
      "Epoch 65 - Train Loss = 400.67018130180765\n"
     ]
    },
    {
     "name": "stderr",
     "output_type": "stream",
     "text": [
      " 66%|██████▌   | 66/100 [06:31<03:22,  5.95s/it]"
     ]
    },
    {
     "name": "stdout",
     "output_type": "stream",
     "text": [
      "Epoch 66 - Train Loss = 400.2735910844395\n"
     ]
    },
    {
     "name": "stderr",
     "output_type": "stream",
     "text": [
      " 67%|██████▋   | 67/100 [06:37<03:16,  5.96s/it]"
     ]
    },
    {
     "name": "stdout",
     "output_type": "stream",
     "text": [
      "Epoch 67 - Train Loss = 400.1797544343808\n"
     ]
    },
    {
     "name": "stderr",
     "output_type": "stream",
     "text": [
      " 68%|██████▊   | 68/100 [06:43<03:11,  5.98s/it]"
     ]
    },
    {
     "name": "stdout",
     "output_type": "stream",
     "text": [
      "Epoch 68 - Train Loss = 400.1672468357709\n"
     ]
    },
    {
     "name": "stderr",
     "output_type": "stream",
     "text": [
      " 69%|██████▉   | 69/100 [06:49<03:04,  5.95s/it]"
     ]
    },
    {
     "name": "stdout",
     "output_type": "stream",
     "text": [
      "Epoch 69 - Train Loss = 399.9845893955556\n"
     ]
    },
    {
     "name": "stderr",
     "output_type": "stream",
     "text": [
      " 70%|███████   | 70/100 [06:55<02:57,  5.93s/it]"
     ]
    },
    {
     "name": "stdout",
     "output_type": "stream",
     "text": [
      "Epoch 70 - Train Loss = 399.63294794703006\n"
     ]
    },
    {
     "name": "stderr",
     "output_type": "stream",
     "text": [
      " 71%|███████   | 71/100 [07:01<02:52,  5.96s/it]"
     ]
    },
    {
     "name": "stdout",
     "output_type": "stream",
     "text": [
      "Epoch 71 - Train Loss = 399.70211391533957\n"
     ]
    },
    {
     "name": "stderr",
     "output_type": "stream",
     "text": [
      " 72%|███████▏  | 72/100 [07:07<02:46,  5.95s/it]"
     ]
    },
    {
     "name": "stdout",
     "output_type": "stream",
     "text": [
      "Epoch 72 - Train Loss = 399.53338035442533\n"
     ]
    },
    {
     "name": "stderr",
     "output_type": "stream",
     "text": [
      " 73%|███████▎  | 73/100 [07:12<02:40,  5.94s/it]"
     ]
    },
    {
     "name": "stdout",
     "output_type": "stream",
     "text": [
      "Epoch 73 - Train Loss = 399.5079040323066\n"
     ]
    },
    {
     "name": "stderr",
     "output_type": "stream",
     "text": [
      " 74%|███████▍  | 74/100 [07:18<02:34,  5.92s/it]"
     ]
    },
    {
     "name": "stdout",
     "output_type": "stream",
     "text": [
      "Epoch 74 - Train Loss = 399.333622067057\n"
     ]
    },
    {
     "name": "stderr",
     "output_type": "stream",
     "text": [
      " 75%|███████▌  | 75/100 [07:24<02:27,  5.92s/it]"
     ]
    },
    {
     "name": "stdout",
     "output_type": "stream",
     "text": [
      "Epoch 75 - Train Loss = 399.2414450440503\n"
     ]
    },
    {
     "name": "stderr",
     "output_type": "stream",
     "text": [
      " 76%|███████▌  | 76/100 [07:30<02:22,  5.92s/it]"
     ]
    },
    {
     "name": "stdout",
     "output_type": "stream",
     "text": [
      "Epoch 76 - Train Loss = 399.06634992653454\n"
     ]
    },
    {
     "name": "stderr",
     "output_type": "stream",
     "text": [
      " 77%|███████▋  | 77/100 [07:36<02:15,  5.89s/it]"
     ]
    },
    {
     "name": "stdout",
     "output_type": "stream",
     "text": [
      "Epoch 77 - Train Loss = 398.96606918442546\n"
     ]
    },
    {
     "name": "stderr",
     "output_type": "stream",
     "text": [
      " 78%|███████▊  | 78/100 [07:42<02:09,  5.89s/it]"
     ]
    },
    {
     "name": "stdout",
     "output_type": "stream",
     "text": [
      "Epoch 78 - Train Loss = 398.8403458283995\n"
     ]
    },
    {
     "name": "stderr",
     "output_type": "stream",
     "text": [
      " 79%|███████▉  | 79/100 [07:48<02:03,  5.90s/it]"
     ]
    },
    {
     "name": "stdout",
     "output_type": "stream",
     "text": [
      "Epoch 79 - Train Loss = 398.8034370243862\n"
     ]
    },
    {
     "name": "stderr",
     "output_type": "stream",
     "text": [
      " 80%|████████  | 80/100 [07:54<01:58,  5.93s/it]"
     ]
    },
    {
     "name": "stdout",
     "output_type": "stream",
     "text": [
      "Epoch 80 - Train Loss = 398.69890699561\n"
     ]
    },
    {
     "name": "stderr",
     "output_type": "stream",
     "text": [
      " 81%|████████  | 81/100 [08:00<01:52,  5.92s/it]"
     ]
    },
    {
     "name": "stdout",
     "output_type": "stream",
     "text": [
      "Epoch 81 - Train Loss = 398.7991351002122\n"
     ]
    },
    {
     "name": "stderr",
     "output_type": "stream",
     "text": [
      " 82%|████████▏ | 82/100 [08:06<01:46,  5.90s/it]"
     ]
    },
    {
     "name": "stdout",
     "output_type": "stream",
     "text": [
      "Epoch 82 - Train Loss = 398.7937027227966\n"
     ]
    },
    {
     "name": "stderr",
     "output_type": "stream",
     "text": [
      " 83%|████████▎ | 83/100 [08:11<01:39,  5.87s/it]"
     ]
    },
    {
     "name": "stdout",
     "output_type": "stream",
     "text": [
      "Epoch 83 - Train Loss = 398.4431434217027\n"
     ]
    },
    {
     "name": "stderr",
     "output_type": "stream",
     "text": [
      " 84%|████████▍ | 84/100 [08:17<01:34,  5.89s/it]"
     ]
    },
    {
     "name": "stdout",
     "output_type": "stream",
     "text": [
      "Epoch 84 - Train Loss = 398.4039033997179\n"
     ]
    },
    {
     "name": "stderr",
     "output_type": "stream",
     "text": [
      " 85%|████████▌ | 85/100 [08:23<01:28,  5.89s/it]"
     ]
    },
    {
     "name": "stdout",
     "output_type": "stream",
     "text": [
      "Epoch 85 - Train Loss = 398.580847714376\n"
     ]
    },
    {
     "name": "stderr",
     "output_type": "stream",
     "text": [
      " 86%|████████▌ | 86/100 [08:29<01:22,  5.90s/it]"
     ]
    },
    {
     "name": "stdout",
     "output_type": "stream",
     "text": [
      "Epoch 86 - Train Loss = 398.25772942795624\n"
     ]
    },
    {
     "name": "stderr",
     "output_type": "stream",
     "text": [
      " 87%|████████▋ | 87/100 [08:35<01:16,  5.92s/it]"
     ]
    },
    {
     "name": "stdout",
     "output_type": "stream",
     "text": [
      "Epoch 87 - Train Loss = 398.2566633834929\n"
     ]
    },
    {
     "name": "stderr",
     "output_type": "stream",
     "text": [
      " 88%|████████▊ | 88/100 [08:41<01:11,  5.94s/it]"
     ]
    },
    {
     "name": "stdout",
     "output_type": "stream",
     "text": [
      "Epoch 88 - Train Loss = 398.3531435581751\n"
     ]
    },
    {
     "name": "stderr",
     "output_type": "stream",
     "text": [
      " 89%|████████▉ | 89/100 [08:47<01:05,  5.95s/it]"
     ]
    },
    {
     "name": "stdout",
     "output_type": "stream",
     "text": [
      "Epoch 89 - Train Loss = 398.1800282507053\n"
     ]
    },
    {
     "name": "stderr",
     "output_type": "stream",
     "text": [
      " 90%|█████████ | 90/100 [08:53<00:59,  5.91s/it]"
     ]
    },
    {
     "name": "stdout",
     "output_type": "stream",
     "text": [
      "Epoch 90 - Train Loss = 398.13394615329156\n"
     ]
    },
    {
     "name": "stderr",
     "output_type": "stream",
     "text": [
      " 91%|█████████ | 91/100 [08:59<00:53,  5.93s/it]"
     ]
    },
    {
     "name": "stdout",
     "output_type": "stream",
     "text": [
      "Epoch 91 - Train Loss = 397.9776252404159\n"
     ]
    },
    {
     "name": "stderr",
     "output_type": "stream",
     "text": [
      " 92%|█████████▏| 92/100 [09:05<00:47,  5.96s/it]"
     ]
    },
    {
     "name": "stdout",
     "output_type": "stream",
     "text": [
      "Epoch 92 - Train Loss = 397.66268491949495\n"
     ]
    },
    {
     "name": "stderr",
     "output_type": "stream",
     "text": [
      " 93%|█████████▎| 93/100 [09:11<00:41,  5.96s/it]"
     ]
    },
    {
     "name": "stdout",
     "output_type": "stream",
     "text": [
      "Epoch 93 - Train Loss = 398.1866648950884\n"
     ]
    },
    {
     "name": "stderr",
     "output_type": "stream",
     "text": [
      " 94%|█████████▍| 94/100 [09:17<00:35,  5.94s/it]"
     ]
    },
    {
     "name": "stdout",
     "output_type": "stream",
     "text": [
      "Epoch 94 - Train Loss = 397.98438579675985\n"
     ]
    },
    {
     "name": "stderr",
     "output_type": "stream",
     "text": [
      " 95%|█████████▌| 95/100 [09:23<00:29,  5.94s/it]"
     ]
    },
    {
     "name": "stdout",
     "output_type": "stream",
     "text": [
      "Epoch 95 - Train Loss = 397.74157864688294\n"
     ]
    },
    {
     "name": "stderr",
     "output_type": "stream",
     "text": [
      " 96%|█████████▌| 96/100 [09:29<00:23,  5.92s/it]"
     ]
    },
    {
     "name": "stdout",
     "output_type": "stream",
     "text": [
      "Epoch 96 - Train Loss = 397.7405802621504\n"
     ]
    },
    {
     "name": "stderr",
     "output_type": "stream",
     "text": [
      " 97%|█████████▋| 97/100 [09:35<00:17,  5.99s/it]"
     ]
    },
    {
     "name": "stdout",
     "output_type": "stream",
     "text": [
      "Epoch 97 - Train Loss = 397.61133639048904\n"
     ]
    },
    {
     "name": "stderr",
     "output_type": "stream",
     "text": [
      " 98%|█████████▊| 98/100 [09:41<00:11,  5.98s/it]"
     ]
    },
    {
     "name": "stdout",
     "output_type": "stream",
     "text": [
      "Epoch 98 - Train Loss = 397.71358092709306\n"
     ]
    },
    {
     "name": "stderr",
     "output_type": "stream",
     "text": [
      " 99%|█████████▉| 99/100 [09:47<00:05,  5.97s/it]"
     ]
    },
    {
     "name": "stdout",
     "output_type": "stream",
     "text": [
      "Epoch 99 - Train Loss = 397.45544672895676\n"
     ]
    },
    {
     "name": "stderr",
     "output_type": "stream",
     "text": [
      "100%|██████████| 100/100 [09:53<00:00,  5.93s/it]"
     ]
    },
    {
     "name": "stdout",
     "output_type": "stream",
     "text": [
      "Epoch 100 - Train Loss = 397.4119543302198\n",
      "Training process has finished.\n"
     ]
    },
    {
     "name": "stderr",
     "output_type": "stream",
     "text": [
      "\n"
     ]
    }
   ],
   "source": [
    "from mlp_utils import pipeline\n",
    "import torch.optim as optim\n",
    "\n",
    "criterion = nn.MSELoss()\n",
    "optimizer = optim.Adam(mlp.parameters(), lr=0.001, weight_decay=1e-5)\n",
    "\n",
    "train_losses, test_loss, predictions = pipeline(mlp, optimizer, dataloader_train=dataloader_train, \n",
    "                                                dataloader_test=dataloader_test, dataloader_pred=dataloader_pred,\n",
    "                        \t\t\tdevice=device, criterion=criterion, epochs=100, verbose=True)"
   ]
  },
  {
   "cell_type": "code",
   "execution_count": 172,
   "metadata": {},
   "outputs": [
    {
     "name": "stdout",
     "output_type": "stream",
     "text": [
      "Final Train Loss: 397.4119543302198\n",
      "Test Loss: 421.73393374207535\n"
     ]
    }
   ],
   "source": [
    "print(f\"Final Train Loss: {train_losses[-1]}\")\n",
    "print(f\"Test Loss: {test_loss}\")"
   ]
  },
  {
   "cell_type": "code",
   "execution_count": 173,
   "metadata": {},
   "outputs": [
    {
     "data": {
      "image/png": "[encoded data removed]",
      "text/plain": [
       "<Figure size 640x480 with 1 Axes>"
      ]
     },
     "metadata": {},
     "output_type": "display_data"
    },
    {
     "name": "stdout",
     "output_type": "stream",
     "text": [
      "[488.60946335788987, 449.9211962708646, 445.79503856252387, 442.9435866312829, 440.2012243035047, 437.73324653938676, 434.96490568470205, 431.9983821933781, 429.0523086112806, 426.464918779869, 424.5854873218413, 422.85099772706184, 421.86877996022366, 420.73849692921686, 419.5792586391027, 418.571558890103, 417.50107238097746, 416.3879753090132, 415.17140749504046, 414.55785432651993, 413.4984493619923, 412.7777730570319, 412.11528399191644, 411.13613525352037, 410.4842292097499, 409.84420823727413, 409.37741773347165, 408.615627932914, 408.3496102767763, 407.9940296190166, 407.5775416564096, 407.0375408116022, 406.84897977877, 406.4742586004644, 406.1673906612325, 405.7403347655251, 405.44712370620977, 405.0818597760057, 404.95937914382466, 404.59858107483666, 404.3119418409933, 404.16033955501234, 403.8562920297392, 403.7579509265638, 403.53306791609725, 403.5509830712656, 403.1898793480347, 403.034524209552, 402.8815526402054, 402.4864744786064, 402.27290856303614, 401.99974995223164, 402.22115019401974, 401.9381024832521, 401.7609139587361, 401.75817558783245, 401.28882996253526, 401.44392893581187, 401.136998525976, 401.0157961157294, 400.9102677852409, 400.8547221301567, 400.7016596267504, 400.6254819551779, 400.67018130180765, 400.2735910844395, 400.1797544343808, 400.1672468357709, 399.9845893955556, 399.63294794703006, 399.70211391533957, 399.53338035442533, 399.5079040323066, 399.333622067057, 399.2414450440503, 399.06634992653454, 398.96606918442546, 398.8403458283995, 398.8034370243862, 398.69890699561, 398.7991351002122, 398.7937027227966, 398.4431434217027, 398.4039033997179, 398.580847714376, 398.25772942795624, 398.2566633834929, 398.3531435581751, 398.1800282507053, 398.13394615329156, 397.9776252404159, 397.66268491949495, 398.1866648950884, 397.98438579675985, 397.74157864688294, 397.7405802621504, 397.61133639048904, 397.71358092709306, 397.45544672895676, 397.4119543302198]\n"
     ]
    }
   ],
   "source": [
    "import matplotlib.pyplot as plt\n",
    "\n",
    "# Create x-axis values (epochs)\n",
    "epochs = range(1, len(train_losses) + 1)\n",
    "\n",
    "# Plot the training loss\n",
    "plt.plot(epochs, train_losses, 'b-')\n",
    "plt.xlabel('Epochs')\n",
    "plt.ylabel('Training Loss')\n",
    "plt.title('Training Loss over Epochs')\n",
    "plt.grid(True)\n",
    "plt.show()\n",
    "\n",
    "print(train_losses)"
   ]
  },
  {
   "cell_type": "code",
   "execution_count": 174,
   "metadata": {},
   "outputs": [],
   "source": [
    "from mlp_utils import test_prediction_to_csv\n",
    "\n",
    "test_prediction_to_csv(predictions, \"mlp_encoding_layers_concatenated.csv\", test_data)"
   ]
  },
  {
   "cell_type": "code",
   "execution_count": null,
   "metadata": {},
   "outputs": [],
   "source": []
  }
 ],
 "metadata": {
  "kernelspec": {
   "display_name": ".venv",
   "language": "python",
   "name": "python3"
  },
  "language_info": {
   "codemirror_mode": {
    "name": "ipython",
    "version": 3
   },
   "file_extension": ".py",
   "mimetype": "text/x-python",
   "name": "python",
   "nbconvert_exporter": "python",
   "pygments_lexer": "ipython3",
   "version": "3.9.7"
  },
  "orig_nbformat": 4
 },
 "nbformat": 4,
 "nbformat_minor": 2
}
