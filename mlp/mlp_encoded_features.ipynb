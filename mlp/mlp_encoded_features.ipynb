{
 "cells": [
  {
   "cell_type": "code",
   "execution_count": 1,
   "metadata": {},
   "outputs": [
    {
     "name": "stdout",
     "output_type": "stream",
     "text": [
      "FILE: train_call_type_A.csv\n",
      "FILE: train_call_type_B.csv\n",
      "FILE: train_call_type_C.csv\n",
      "FILE: test_public.csv\n"
     ]
    }
   ],
   "source": [
    "import torch\n",
    "import torch.nn as nn\n",
    "import torchvision\n",
    "import pandas as pd\n",
    "import numpy as np\n",
    "import zipfile\n",
    "import io\n",
    "import pandas as pd\n",
    "import math\n",
    "from IPython.display import display\n",
    "from collections import defaultdict\n",
    "\n",
    "zipped_data_path = \"../data/clean_data/class-competition-cleaned.zip\"\n",
    "\n",
    "dataframes = defaultdict(pd.DataFrame)\n",
    "with zipfile.ZipFile(zipped_data_path, \"r\") as zipf:\n",
    "    for filename in zipf.namelist():\n",
    "        if filename.endswith(\".csv\"):\n",
    "            with zipf.open(filename) as f:\n",
    "                dataframes.update({ filename : pd.read_csv(io.TextIOWrapper(f)) })\n",
    "\n",
    "                # Lets take a look at the files\n",
    "                print(f\"FILE: {filename}\")\n",
    "                # If you want to see file info uncomment this:\n",
    "                # display(dataframes[filename].info())\n",
    "                # display(dataframes[filename].head())"
   ]
  },
  {
   "cell_type": "code",
   "execution_count": 2,
   "metadata": {},
   "outputs": [
    {
     "name": "stdout",
     "output_type": "stream",
     "text": [
      "cuda:0\n"
     ]
    }
   ],
   "source": [
    "train_data_A = dataframes[\"train_call_type_A.csv\"]\n",
    "train_data_B = dataframes[\"train_call_type_B.csv\"]\n",
    "train_data_C = dataframes[\"train_call_type_C.csv\"]\n",
    "test_data  = dataframes[\"test_public.csv\"]\n",
    "device = torch.device('cuda:0' if torch.cuda.is_available() else 'cpu')\n",
    "print(device)"
   ]
  },
  {
   "cell_type": "code",
   "execution_count": 3,
   "metadata": {},
   "outputs": [],
   "source": [
    "from sklearn.preprocessing import StandardScaler\n",
    "\n",
    "# Split the START_LOCATION into two new columns for latitude and longitude for train set\n",
    "for i, j in train_data_B['START_LOCATION'].items():\n",
    "    split = j.split(',')\n",
    "    train_data_B.at[i, 'START_LAT'] = split[0]\n",
    "    train_data_B.at[i, 'START_LONG'] = split[1]\n",
    "\n",
    "# Use only data points with CALL_TYPE B\n",
    "# Split the START_LOCATION into two new columns for latitude and longitude for test set\n",
    "for i, j in test_data['START_LOCATION'].items():\n",
    "    if not isinstance(j, str):\n",
    "        test_data.at[i, 'START_LAT'] = 41.1564349 # MEAN\n",
    "        test_data.at[i, 'START_LONG'] = -8.61451627 # MEAN\n",
    "    else:\n",
    "        split = j.split(',')\n",
    "        test_data.at[i, 'START_LAT'] = split[0]\n",
    "        test_data.at[i, 'START_LONG'] = split[1]\n",
    "\n",
    "latitude_train = pd.DataFrame(train_data_B['START_LAT'].astype(float))\n",
    "longitude_train = pd.DataFrame(train_data_B['START_LONG'].astype(float))\n",
    "latitude_test = pd.DataFrame(test_data['START_LAT'].astype(float))\n",
    "longitude_test = pd.DataFrame(test_data['START_LONG'].astype(float))\n",
    "\n",
    "lat_scaler = StandardScaler()\n",
    "lat_scaler.fit(latitude_train)\n",
    "\n",
    "normalized_latitude_train = lat_scaler.transform(latitude_train)\n",
    "normalized_latitude_test = lat_scaler.transform(latitude_test)\n",
    "\n",
    "long_scaler = StandardScaler()\n",
    "long_scaler.fit(longitude_train)\n",
    "\n",
    "normalized_longitude_train = long_scaler.transform(longitude_train)\n",
    "normalized_longitude_test = long_scaler.transform(longitude_test)\n",
    "\n",
    "train_data_B.loc[:, 'START_LAT_NORMALIZED'] = normalized_latitude_train\n",
    "train_data_B.loc[:, 'START_LONG_NORMALIZED'] = normalized_longitude_train\n",
    "test_data.loc[:, 'START_LAT_NORMALIZED'] = normalized_latitude_test\n",
    "test_data.loc[:, 'START_LONG_NORMALIZED'] = normalized_longitude_test"
   ]
  },
  {
   "cell_type": "code",
   "execution_count": 4,
   "metadata": {},
   "outputs": [],
   "source": [
    "merged_df = pd.merge(train_data_A.drop('START_LOCATION', axis=1), train_data_B, how='outer')\n",
    "merged_df = pd.merge(merged_df, train_data_C.drop('START_LOCATION', axis=1), how='outer')\n",
    "\n",
    "merged_df['START_LONG_NORMALIZED'].fillna(train_data_B['START_LONG_NORMALIZED'].mean(), inplace=True)\n",
    "merged_df['START_LAT_NORMALIZED'].fillna(train_data_B['START_LAT_NORMALIZED'].mean(), inplace=True)"
   ]
  },
  {
   "cell_type": "code",
   "execution_count": 5,
   "metadata": {},
   "outputs": [],
   "source": [
    "from sklearn.preprocessing import LabelEncoder\n",
    "\n",
    "def encode(col, train, test):\n",
    "\tlabelEncoder = LabelEncoder()\n",
    "\n",
    "\ttrain_vals, test_vals = train[col].copy(), test[col].copy()\n",
    "\ttrain_vals[np.isnan(train_vals)], test_vals[np.isnan(test_vals)] = 0, 0\n",
    "\tmerge = pd.concat([train_vals, test_vals])\n",
    "\n",
    "\tlabelEncoder.fit(merge)\n",
    "\t\n",
    "\ttrain[col + \"_ENCODED\"] = labelEncoder.transform(train_vals)\n",
    "\ttest[col + \"_ENCODED\"] = labelEncoder.transform(test_vals)\n",
    "\treturn labelEncoder\n",
    "\n",
    "taxi_id_encoder = encode('TAXI_ID', merged_df, test_data)\n",
    "origin_call_encoder = encode('ORIGIN_CALL', merged_df, test_data)\n",
    "origin_stand_encoder = encode('ORIGIN_STAND', merged_df, test_data)"
   ]
  },
  {
   "cell_type": "code",
   "execution_count": 6,
   "metadata": {},
   "outputs": [],
   "source": [
    "from sklearn.model_selection import train_test_split\n",
    "\n",
    "# We could totally change this. Utilization of these just probably requires further preprocessing.\n",
    "ALL_FEATURES_NOT_SUITED_FOR_ESTIMATION = ['TRIP_ID', 'CALL_TYPE', 'ORIGIN_CALL', 'ORIGIN_STAND', 'POLYLINE', 'START_LOCATION', 'TAXI_ID', 'START_LAT', 'START_LONG', 'START_LAT_NORMALIZED', 'START_LONG_NORMALIZED']\n",
    "\n",
    "X = merged_df.drop(\"TRAVEL_TIME\", axis=1)\n",
    "X = X.loc[:, ~X.columns.isin(ALL_FEATURES_NOT_SUITED_FOR_ESTIMATION)]\n",
    "y = merged_df[\"TRAVEL_TIME\"]\n",
    "X_train, X_test, y_train, y_test = train_test_split(X, y, test_size=0.2, random_state=420)\n",
    "\n",
    "test_features = test_data.loc[:, ~test_data.columns.isin(ALL_FEATURES_NOT_SUITED_FOR_ESTIMATION)]"
   ]
  },
  {
   "cell_type": "code",
   "execution_count": 7,
   "metadata": {},
   "outputs": [
    {
     "name": "stdout",
     "output_type": "stream",
     "text": [
      "<class 'pandas.core.frame.DataFrame'>\n",
      "RangeIndex: 1534075 entries, 0 to 1534074\n",
      "Data columns (total 14 columns):\n",
      " #   Column                Non-Null Count    Dtype  \n",
      "---  ------                --------------    -----  \n",
      " 0   MON_sin               1534075 non-null  float64\n",
      " 1   MON_cos               1534075 non-null  float64\n",
      " 2   DAY_sin               1534075 non-null  float64\n",
      " 3   DAY_cos               1534075 non-null  float64\n",
      " 4   HR_sin                1534075 non-null  float64\n",
      " 5   HR_cos                1534075 non-null  float64\n",
      " 6   MIN_sin               1534075 non-null  float64\n",
      " 7   MIN_cos               1534075 non-null  float64\n",
      " 8   WK_sin                1534075 non-null  float64\n",
      " 9   WK_cos                1534075 non-null  float64\n",
      " 10  YR_2013               1534075 non-null  bool   \n",
      " 11  TAXI_ID_ENCODED       1534075 non-null  int64  \n",
      " 12  ORIGIN_CALL_ENCODED   1534075 non-null  int64  \n",
      " 13  ORIGIN_STAND_ENCODED  1534075 non-null  int64  \n",
      "dtypes: bool(1), float64(10), int64(3)\n",
      "memory usage: 153.6 MB\n"
     ]
    }
   ],
   "source": [
    "X.info()"
   ]
  },
  {
   "cell_type": "code",
   "execution_count": 12,
   "metadata": {},
   "outputs": [],
   "source": [
    "from torch.utils.data import DataLoader, Dataset\n",
    "from mlp_utils import TaxiDataset\n",
    "\n",
    "# Separate the boolean columns\n",
    "boolean_cols = ['YR_2013']\n",
    "\n",
    "# Separate the float columns\n",
    "float_cols = ['MON_sin', 'MON_cos', 'DAY_sin', 'DAY_cos', 'HR_sin', 'HR_cos',\n",
    "              'MIN_sin', 'MIN_cos', 'WK_sin', 'WK_cos']\n",
    "\n",
    "# Separate the encoded columns\n",
    "encoded_cols = ['TAXI_ID_ENCODED', 'ORIGIN_CALL_ENCODED', 'ORIGIN_STAND_ENCODED']\n",
    "\n",
    "# Boolean columns\n",
    "train_boolean_data = X_train[boolean_cols].astype(int).values\n",
    "test_boolean_data = X_test[boolean_cols].astype(int).values\n",
    "test_public_boolean_data = test_features[boolean_cols].astype(int).values\n",
    "\n",
    "# Float columns\n",
    "train_float_data = X_train[float_cols].astype(float).values\n",
    "test_float_data = X_test[float_cols].astype(int).values\n",
    "test_public_float_data = test_features[float_cols].astype(int).values\n",
    "\n",
    "# Encoded columns\n",
    "train_encoded_data = X_train[encoded_cols].astype(int).values\n",
    "test_encoded_data = X_test[encoded_cols].astype(int).values\n",
    "test_public_encoded_data = test_features[encoded_cols].astype(int).values\n",
    "\n",
    "train_concat = np.concatenate((train_boolean_data, train_float_data, train_encoded_data), axis=1)\n",
    "test_concat = np.concatenate((test_boolean_data, test_float_data, test_encoded_data), axis=1)\n",
    "test_public_concat = np.concatenate((test_public_boolean_data, test_public_float_data, test_public_encoded_data), axis=1)\n",
    "\n",
    "X_train_tensor = torch.tensor(train_concat, dtype=torch.float32)\n",
    "y_train_tensor = torch.tensor(y_train.tolist(), dtype=torch.float32)\n",
    "X_test_tensor = torch.tensor(test_concat, dtype=torch.float32)\n",
    "y_test_tensor = torch.tensor(y_test.tolist(), dtype=torch.float32)\n",
    "X_test_public_tensor = torch.tensor(test_public_concat, dtype=torch.float32)\n",
    "\n",
    "train_dataset = TaxiDataset(X_train_tensor, y_train_tensor)\n",
    "test_dataset = TaxiDataset(X_test_tensor, y_test_tensor)\n",
    "test_public_dataset = TaxiDataset(X_test_public_tensor)\n",
    "\n",
    "batch_size = 64\n",
    "\n",
    "dataloader_train = DataLoader(train_dataset, batch_size=batch_size, shuffle=True)\n",
    "dataloader_test = DataLoader(test_dataset, batch_size=batch_size, shuffle=True)\n",
    "dataloader_pred = DataLoader(test_public_dataset, batch_size=batch_size)"
   ]
  },
  {
   "cell_type": "code",
   "execution_count": 15,
   "metadata": {},
   "outputs": [],
   "source": [
    "import torch.nn.functional as F\n",
    "\n",
    "def init_weights(m):\n",
    "  if isinstance(m, nn.Linear):\n",
    "    nn.init.xavier_uniform_(m.weight)\n",
    "    m.bias.data.fill_(0.01)\n",
    "\n",
    "class MLP(nn.Module):\n",
    "  '''\n",
    "    Multilayer Perceptron for regression.\n",
    "  '''\n",
    "  def __init__(self):\n",
    "    super().__init__()\n",
    "    self.embed_taxi_id = nn.Embedding(len(taxi_id_encoder.classes_), 8)\n",
    "    self.embed_origin_call = nn.Embedding(len(origin_call_encoder.classes_), 8)\n",
    "    self.embed_origin_stand = nn.Embedding(len(origin_stand_encoder.classes_), 8)\n",
    "    self.dropout1 = nn.Dropout(0.5)\n",
    "    self.fc1 = nn.Linear(35, 128)\n",
    "    self.dropout2 = nn.Dropout(0.5)\n",
    "    self.fc2 = nn.Linear(128, 64)\n",
    "    self.dropout3 = nn.Dropout(0.5)\n",
    "    self.fc3 = nn.Linear(64, 32)\n",
    "    self.dropout4 = nn.Dropout(0.5)\n",
    "    self.fc4 = nn.Linear(32, 16)\n",
    "    self.fc5 = nn.Linear(16, 1)\n",
    "    self.apply(init_weights)\n",
    "    self.apply(init_weights)\n",
    "\n",
    "  def forward(self, x):\n",
    "    '''\n",
    "      Forward pass\n",
    "    '''\n",
    "    taxi_id = self.embed_taxi_id(x[:, -3].to(torch.int32))\n",
    "    origin_call = self.embed_origin_call(x[:, -2].to(torch.int32))\n",
    "    origin_stand = self.embed_origin_stand(x[:, -1].to(torch.int32))\n",
    "    x = torch.cat([taxi_id, origin_call, origin_stand, x[:, :-3]], axis=1).to(torch.float32)\n",
    "    x = self.dropout1(x)\n",
    "    x = F.relu(self.fc1(x))\n",
    "    x = self.dropout2(x)\n",
    "    x = F.relu(self.fc2(x))\n",
    "    x = self.dropout3(x)\n",
    "    x = F.relu(self.fc3(x))\n",
    "    x = self.dropout4(x)\n",
    "    x = F.relu(self.fc4(x))\n",
    "    x = self.fc5(x)\n",
    "    return x"
   ]
  },
  {
   "cell_type": "code",
   "execution_count": 16,
   "metadata": {},
   "outputs": [
    {
     "data": {
      "text/plain": [
       "465657"
      ]
     },
     "execution_count": 16,
     "metadata": {},
     "output_type": "execute_result"
    }
   ],
   "source": [
    "from mlp_utils import num_parameters\n",
    "\n",
    "mlp = MLP()\n",
    "if torch.cuda.is_available():\n",
    "    mlp.cuda()\n",
    " \n",
    "num_parameters(mlp)"
   ]
  },
  {
   "cell_type": "code",
   "execution_count": 17,
   "metadata": {},
   "outputs": [
    {
     "name": "stderr",
     "output_type": "stream",
     "text": [
      "  2%|▏         | 1/50 [01:11<58:40, 71.84s/it]"
     ]
    },
    {
     "name": "stdout",
     "output_type": "stream",
     "text": [
      "Epoch 1 - Train Loss = 440.34154382757225\n"
     ]
    },
    {
     "name": "stderr",
     "output_type": "stream",
     "text": [
      "  4%|▍         | 2/50 [02:21<56:27, 70.56s/it]"
     ]
    },
    {
     "name": "stdout",
     "output_type": "stream",
     "text": [
      "Epoch 2 - Train Loss = 419.30737722930957\n"
     ]
    },
    {
     "name": "stderr",
     "output_type": "stream",
     "text": [
      "  6%|▌         | 3/50 [03:33<55:52, 71.34s/it]"
     ]
    },
    {
     "name": "stdout",
     "output_type": "stream",
     "text": [
      "Epoch 3 - Train Loss = 415.1978160833783\n"
     ]
    },
    {
     "name": "stderr",
     "output_type": "stream",
     "text": [
      "  8%|▊         | 4/50 [04:44<54:31, 71.12s/it]"
     ]
    },
    {
     "name": "stdout",
     "output_type": "stream",
     "text": [
      "Epoch 4 - Train Loss = 411.70951025438274\n"
     ]
    },
    {
     "name": "stderr",
     "output_type": "stream",
     "text": [
      " 10%|█         | 5/50 [05:54<52:56, 70.59s/it]"
     ]
    },
    {
     "name": "stdout",
     "output_type": "stream",
     "text": [
      "Epoch 5 - Train Loss = 408.68062602681096\n"
     ]
    },
    {
     "name": "stderr",
     "output_type": "stream",
     "text": [
      " 12%|█▏        | 6/50 [07:04<51:39, 70.44s/it]"
     ]
    },
    {
     "name": "stdout",
     "output_type": "stream",
     "text": [
      "Epoch 6 - Train Loss = 406.4778358347046\n"
     ]
    },
    {
     "name": "stderr",
     "output_type": "stream",
     "text": [
      " 14%|█▍        | 7/50 [08:14<50:21, 70.27s/it]"
     ]
    },
    {
     "name": "stdout",
     "output_type": "stream",
     "text": [
      "Epoch 7 - Train Loss = 404.32781281573904\n"
     ]
    },
    {
     "name": "stderr",
     "output_type": "stream",
     "text": [
      " 16%|█▌        | 8/50 [09:22<48:44, 69.64s/it]"
     ]
    },
    {
     "name": "stdout",
     "output_type": "stream",
     "text": [
      "Epoch 8 - Train Loss = 402.3452537063167\n"
     ]
    },
    {
     "name": "stderr",
     "output_type": "stream",
     "text": [
      " 18%|█▊        | 9/50 [10:30<47:16, 69.17s/it]"
     ]
    },
    {
     "name": "stdout",
     "output_type": "stream",
     "text": [
      "Epoch 9 - Train Loss = 400.85123047354205\n"
     ]
    },
    {
     "name": "stderr",
     "output_type": "stream",
     "text": [
      " 20%|██        | 10/50 [11:39<45:59, 68.99s/it]"
     ]
    },
    {
     "name": "stdout",
     "output_type": "stream",
     "text": [
      "Epoch 10 - Train Loss = 399.4245230813827\n"
     ]
    },
    {
     "name": "stderr",
     "output_type": "stream",
     "text": [
      " 22%|██▏       | 11/50 [12:48<44:48, 68.93s/it]"
     ]
    },
    {
     "name": "stdout",
     "output_type": "stream",
     "text": [
      "Epoch 11 - Train Loss = 398.2910403736074\n"
     ]
    },
    {
     "name": "stderr",
     "output_type": "stream",
     "text": [
      " 24%|██▍       | 12/50 [13:56<43:32, 68.76s/it]"
     ]
    },
    {
     "name": "stdout",
     "output_type": "stream",
     "text": [
      "Epoch 12 - Train Loss = 397.39241214500606\n"
     ]
    },
    {
     "name": "stderr",
     "output_type": "stream",
     "text": [
      " 26%|██▌       | 13/50 [15:04<42:19, 68.63s/it]"
     ]
    },
    {
     "name": "stdout",
     "output_type": "stream",
     "text": [
      "Epoch 13 - Train Loss = 396.6839479878521\n"
     ]
    },
    {
     "name": "stderr",
     "output_type": "stream",
     "text": [
      " 28%|██▊       | 14/50 [16:12<41:04, 68.47s/it]"
     ]
    },
    {
     "name": "stdout",
     "output_type": "stream",
     "text": [
      "Epoch 14 - Train Loss = 396.04690070740133\n"
     ]
    },
    {
     "name": "stderr",
     "output_type": "stream",
     "text": [
      " 30%|███       | 15/50 [17:21<39:54, 68.40s/it]"
     ]
    },
    {
     "name": "stdout",
     "output_type": "stream",
     "text": [
      "Epoch 15 - Train Loss = 395.41456058160804\n"
     ]
    },
    {
     "name": "stderr",
     "output_type": "stream",
     "text": [
      " 32%|███▏      | 16/50 [18:30<39:00, 68.84s/it]"
     ]
    },
    {
     "name": "stdout",
     "output_type": "stream",
     "text": [
      "Epoch 16 - Train Loss = 394.6685107526272\n"
     ]
    },
    {
     "name": "stderr",
     "output_type": "stream",
     "text": [
      " 34%|███▍      | 17/50 [19:39<37:50, 68.80s/it]"
     ]
    },
    {
     "name": "stdout",
     "output_type": "stream",
     "text": [
      "Epoch 17 - Train Loss = 393.83832295839693\n"
     ]
    },
    {
     "name": "stderr",
     "output_type": "stream",
     "text": [
      " 36%|███▌      | 18/50 [20:48<36:37, 68.67s/it]"
     ]
    },
    {
     "name": "stdout",
     "output_type": "stream",
     "text": [
      "Epoch 18 - Train Loss = 393.0782632692386\n"
     ]
    },
    {
     "name": "stderr",
     "output_type": "stream",
     "text": [
      " 38%|███▊      | 19/50 [21:56<35:26, 68.58s/it]"
     ]
    },
    {
     "name": "stdout",
     "output_type": "stream",
     "text": [
      "Epoch 19 - Train Loss = 392.64392157181067\n"
     ]
    },
    {
     "name": "stderr",
     "output_type": "stream",
     "text": [
      " 40%|████      | 20/50 [23:06<34:35, 69.18s/it]"
     ]
    },
    {
     "name": "stdout",
     "output_type": "stream",
     "text": [
      "Epoch 20 - Train Loss = 392.14292040667016\n"
     ]
    },
    {
     "name": "stderr",
     "output_type": "stream",
     "text": [
      " 42%|████▏     | 21/50 [24:18<33:45, 69.85s/it]"
     ]
    },
    {
     "name": "stdout",
     "output_type": "stream",
     "text": [
      "Epoch 21 - Train Loss = 391.624163207209\n"
     ]
    },
    {
     "name": "stderr",
     "output_type": "stream",
     "text": [
      " 44%|████▍     | 22/50 [25:28<32:37, 69.90s/it]"
     ]
    },
    {
     "name": "stdout",
     "output_type": "stream",
     "text": [
      "Epoch 22 - Train Loss = 391.08526264190493\n"
     ]
    },
    {
     "name": "stderr",
     "output_type": "stream",
     "text": [
      " 46%|████▌     | 23/50 [26:39<31:33, 70.13s/it]"
     ]
    },
    {
     "name": "stdout",
     "output_type": "stream",
     "text": [
      "Epoch 23 - Train Loss = 390.64107177226265\n"
     ]
    },
    {
     "name": "stderr",
     "output_type": "stream",
     "text": [
      " 48%|████▊     | 24/50 [27:49<30:25, 70.21s/it]"
     ]
    },
    {
     "name": "stdout",
     "output_type": "stream",
     "text": [
      "Epoch 24 - Train Loss = 390.2359526981823\n"
     ]
    },
    {
     "name": "stderr",
     "output_type": "stream",
     "text": [
      " 50%|█████     | 25/50 [28:59<29:10, 70.01s/it]"
     ]
    },
    {
     "name": "stdout",
     "output_type": "stream",
     "text": [
      "Epoch 25 - Train Loss = 389.82583302532913\n"
     ]
    },
    {
     "name": "stderr",
     "output_type": "stream",
     "text": [
      " 52%|█████▏    | 26/50 [30:08<27:53, 69.73s/it]"
     ]
    },
    {
     "name": "stdout",
     "output_type": "stream",
     "text": [
      "Epoch 26 - Train Loss = 389.5283511062793\n"
     ]
    },
    {
     "name": "stderr",
     "output_type": "stream",
     "text": [
      " 54%|█████▍    | 27/50 [31:18<26:46, 69.87s/it]"
     ]
    },
    {
     "name": "stdout",
     "output_type": "stream",
     "text": [
      "Epoch 27 - Train Loss = 389.15521918336594\n"
     ]
    },
    {
     "name": "stderr",
     "output_type": "stream",
     "text": [
      " 56%|█████▌    | 28/50 [32:27<25:29, 69.52s/it]"
     ]
    },
    {
     "name": "stdout",
     "output_type": "stream",
     "text": [
      "Epoch 28 - Train Loss = 388.8641927963485\n"
     ]
    },
    {
     "name": "stderr",
     "output_type": "stream",
     "text": [
      " 58%|█████▊    | 29/50 [33:37<24:27, 69.90s/it]"
     ]
    },
    {
     "name": "stdout",
     "output_type": "stream",
     "text": [
      "Epoch 29 - Train Loss = 388.5747411176136\n"
     ]
    },
    {
     "name": "stderr",
     "output_type": "stream",
     "text": [
      " 60%|██████    | 30/50 [34:49<23:26, 70.35s/it]"
     ]
    },
    {
     "name": "stdout",
     "output_type": "stream",
     "text": [
      "Epoch 30 - Train Loss = 388.2029781551633\n"
     ]
    },
    {
     "name": "stderr",
     "output_type": "stream",
     "text": [
      " 62%|██████▏   | 31/50 [35:59<22:18, 70.45s/it]"
     ]
    },
    {
     "name": "stdout",
     "output_type": "stream",
     "text": [
      "Epoch 31 - Train Loss = 388.0757040397887\n"
     ]
    },
    {
     "name": "stderr",
     "output_type": "stream",
     "text": [
      " 64%|██████▍   | 32/50 [37:08<21:00, 70.00s/it]"
     ]
    },
    {
     "name": "stdout",
     "output_type": "stream",
     "text": [
      "Epoch 32 - Train Loss = 387.79633074830303\n"
     ]
    },
    {
     "name": "stderr",
     "output_type": "stream",
     "text": [
      " 66%|██████▌   | 33/50 [38:17<19:45, 69.73s/it]"
     ]
    },
    {
     "name": "stdout",
     "output_type": "stream",
     "text": [
      "Epoch 33 - Train Loss = 387.61955884886527\n"
     ]
    },
    {
     "name": "stderr",
     "output_type": "stream",
     "text": [
      " 68%|██████▊   | 34/50 [39:26<18:31, 69.45s/it]"
     ]
    },
    {
     "name": "stdout",
     "output_type": "stream",
     "text": [
      "Epoch 34 - Train Loss = 387.3431167241918\n"
     ]
    },
    {
     "name": "stderr",
     "output_type": "stream",
     "text": [
      " 70%|███████   | 35/50 [40:35<17:19, 69.31s/it]"
     ]
    },
    {
     "name": "stdout",
     "output_type": "stream",
     "text": [
      "Epoch 35 - Train Loss = 387.1772101326315\n"
     ]
    },
    {
     "name": "stderr",
     "output_type": "stream",
     "text": [
      " 72%|███████▏  | 36/50 [41:44<16:10, 69.30s/it]"
     ]
    },
    {
     "name": "stdout",
     "output_type": "stream",
     "text": [
      "Epoch 36 - Train Loss = 386.9568552929531\n"
     ]
    },
    {
     "name": "stderr",
     "output_type": "stream",
     "text": [
      " 74%|███████▍  | 37/50 [42:54<15:02, 69.39s/it]"
     ]
    },
    {
     "name": "stdout",
     "output_type": "stream",
     "text": [
      "Epoch 37 - Train Loss = 386.79608315497455\n"
     ]
    },
    {
     "name": "stderr",
     "output_type": "stream",
     "text": [
      " 76%|███████▌  | 38/50 [44:03<13:52, 69.36s/it]"
     ]
    },
    {
     "name": "stdout",
     "output_type": "stream",
     "text": [
      "Epoch 38 - Train Loss = 386.5766688705089\n"
     ]
    },
    {
     "name": "stderr",
     "output_type": "stream",
     "text": [
      " 78%|███████▊  | 39/50 [45:13<12:42, 69.33s/it]"
     ]
    },
    {
     "name": "stdout",
     "output_type": "stream",
     "text": [
      "Epoch 39 - Train Loss = 386.50576504313483\n"
     ]
    },
    {
     "name": "stderr",
     "output_type": "stream",
     "text": [
      " 80%|████████  | 40/50 [46:22<11:33, 69.35s/it]"
     ]
    },
    {
     "name": "stdout",
     "output_type": "stream",
     "text": [
      "Epoch 40 - Train Loss = 386.1896218780267\n"
     ]
    },
    {
     "name": "stderr",
     "output_type": "stream",
     "text": [
      " 82%|████████▏ | 41/50 [47:32<10:25, 69.45s/it]"
     ]
    },
    {
     "name": "stdout",
     "output_type": "stream",
     "text": [
      "Epoch 41 - Train Loss = 386.04130596111287\n"
     ]
    },
    {
     "name": "stderr",
     "output_type": "stream",
     "text": [
      " 84%|████████▍ | 42/50 [48:41<09:15, 69.42s/it]"
     ]
    },
    {
     "name": "stdout",
     "output_type": "stream",
     "text": [
      "Epoch 42 - Train Loss = 385.91994388094764\n"
     ]
    },
    {
     "name": "stderr",
     "output_type": "stream",
     "text": [
      " 86%|████████▌ | 43/50 [49:50<08:05, 69.40s/it]"
     ]
    },
    {
     "name": "stdout",
     "output_type": "stream",
     "text": [
      "Epoch 43 - Train Loss = 385.78507953752916\n"
     ]
    },
    {
     "name": "stderr",
     "output_type": "stream",
     "text": [
      " 88%|████████▊ | 44/50 [51:00<06:56, 69.47s/it]"
     ]
    },
    {
     "name": "stdout",
     "output_type": "stream",
     "text": [
      "Epoch 44 - Train Loss = 385.56188592222287\n"
     ]
    },
    {
     "name": "stderr",
     "output_type": "stream",
     "text": [
      " 90%|█████████ | 45/50 [52:09<05:45, 69.18s/it]"
     ]
    },
    {
     "name": "stdout",
     "output_type": "stream",
     "text": [
      "Epoch 45 - Train Loss = 385.52706465838935\n"
     ]
    },
    {
     "name": "stderr",
     "output_type": "stream",
     "text": [
      " 92%|█████████▏| 46/50 [53:18<04:36, 69.13s/it]"
     ]
    },
    {
     "name": "stdout",
     "output_type": "stream",
     "text": [
      "Epoch 46 - Train Loss = 385.24396676980695\n"
     ]
    },
    {
     "name": "stderr",
     "output_type": "stream",
     "text": [
      " 94%|█████████▍| 47/50 [54:26<03:27, 69.06s/it]"
     ]
    },
    {
     "name": "stdout",
     "output_type": "stream",
     "text": [
      "Epoch 47 - Train Loss = 385.1366468437584\n"
     ]
    },
    {
     "name": "stderr",
     "output_type": "stream",
     "text": [
      " 96%|█████████▌| 48/50 [55:35<02:18, 69.03s/it]"
     ]
    },
    {
     "name": "stdout",
     "output_type": "stream",
     "text": [
      "Epoch 48 - Train Loss = 384.9555208932195\n"
     ]
    },
    {
     "name": "stderr",
     "output_type": "stream",
     "text": [
      " 98%|█████████▊| 49/50 [56:45<01:09, 69.13s/it]"
     ]
    },
    {
     "name": "stdout",
     "output_type": "stream",
     "text": [
      "Epoch 49 - Train Loss = 384.907046483179\n"
     ]
    },
    {
     "name": "stderr",
     "output_type": "stream",
     "text": [
      "100%|██████████| 50/50 [57:54<00:00, 69.49s/it]"
     ]
    },
    {
     "name": "stdout",
     "output_type": "stream",
     "text": [
      "Epoch 50 - Train Loss = 384.82173622868385\n",
      "Training process has finished.\n"
     ]
    },
    {
     "name": "stderr",
     "output_type": "stream",
     "text": [
      "\n"
     ]
    }
   ],
   "source": [
    "from mlp_utils import pipeline\n",
    "import torch.optim as optim\n",
    "\n",
    "criterion = nn.MSELoss()\n",
    "optimizer = optim.Adam(mlp.parameters(), lr=0.0001, weight_decay=1e-5)\n",
    "\n",
    "train_losses, test_loss, predictions = pipeline(mlp, optimizer, dataloader_train=dataloader_train, \n",
    "                                                dataloader_test=dataloader_test, dataloader_pred=dataloader_pred,\n",
    "                        \t\t\tdevice=device, criterion=criterion, epochs=50, verbose=True)"
   ]
  },
  {
   "cell_type": "code",
   "execution_count": 18,
   "metadata": {},
   "outputs": [
    {
     "name": "stdout",
     "output_type": "stream",
     "text": [
      "Final Train Loss: 384.82173622868385\n",
      "Test Loss: 387.7429011128003\n"
     ]
    }
   ],
   "source": [
    "print(f\"Final Train Loss: {train_losses[-1]}\")\n",
    "print(f\"Test Loss: {test_loss}\")"
   ]
  },
  {
   "cell_type": "code",
   "execution_count": 19,
   "metadata": {},
   "outputs": [
    {
     "data": {
      "image/png": "[encoded data removed]",
      "text/plain": [
       "<Figure size 640x480 with 1 Axes>"
      ]
     },
     "metadata": {},
     "output_type": "display_data"
    },
    {
     "name": "stdout",
     "output_type": "stream",
     "text": [
      "[440.34154382757225, 419.30737722930957, 415.1978160833783, 411.70951025438274, 408.68062602681096, 406.4778358347046, 404.32781281573904, 402.3452537063167, 400.85123047354205, 399.4245230813827, 398.2910403736074, 397.39241214500606, 396.6839479878521, 396.04690070740133, 395.41456058160804, 394.6685107526272, 393.83832295839693, 393.0782632692386, 392.64392157181067, 392.14292040667016, 391.624163207209, 391.08526264190493, 390.64107177226265, 390.2359526981823, 389.82583302532913, 389.5283511062793, 389.15521918336594, 388.8641927963485, 388.5747411176136, 388.2029781551633, 388.0757040397887, 387.79633074830303, 387.61955884886527, 387.3431167241918, 387.1772101326315, 386.9568552929531, 386.79608315497455, 386.5766688705089, 386.50576504313483, 386.1896218780267, 386.04130596111287, 385.91994388094764, 385.78507953752916, 385.56188592222287, 385.52706465838935, 385.24396676980695, 385.1366468437584, 384.9555208932195, 384.907046483179, 384.82173622868385]\n"
     ]
    }
   ],
   "source": [
    "import matplotlib.pyplot as plt\n",
    "\n",
    "# Create x-axis values (epochs)\n",
    "epochs = range(1, len(train_losses) + 1)\n",
    "\n",
    "# Plot the training loss\n",
    "plt.plot(epochs, train_losses, 'b-')\n",
    "plt.xlabel('Epochs')\n",
    "plt.ylabel('Training Loss')\n",
    "plt.title('Training Loss over Epochs')\n",
    "plt.grid(True)\n",
    "plt.show()\n",
    "\n",
    "print(train_losses)"
   ]
  },
  {
   "cell_type": "code",
   "execution_count": 20,
   "metadata": {},
   "outputs": [],
   "source": [
    "from mlp_utils import test_prediction_to_csv\n",
    "\n",
    "test_prediction_to_csv(predictions, \"mlp_encoding_layers_concatenated.csv\", test_data)"
   ]
  },
  {
   "cell_type": "code",
   "execution_count": null,
   "metadata": {},
   "outputs": [],
   "source": []
  }
 ],
 "metadata": {
  "kernelspec": {
   "display_name": ".venv",
   "language": "python",
   "name": "python3"
  },
  "language_info": {
   "codemirror_mode": {
    "name": "ipython",
    "version": 3
   },
   "file_extension": ".py",
   "mimetype": "text/x-python",
   "name": "python",
   "nbconvert_exporter": "python",
   "pygments_lexer": "ipython3",
   "version": "3.9.7"
  },
  "orig_nbformat": 4
 },
 "nbformat": 4,
 "nbformat_minor": 2
}
