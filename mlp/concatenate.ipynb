{
 "cells": [
  {
   "cell_type": "code",
   "execution_count": 2,
   "metadata": {},
   "outputs": [],
   "source": [
    "import pandas as pd\n",
    "\n",
    "# Read the three CSV files into separate DataFrames\n",
    "a_pred = \"../guesses/predicting_six_layer_mlp_call_type_a.csv\"\n",
    "b_pred = \"../guesses/predicting_six_layer_mlp_call_type_b.csv\"\n",
    "c_pred = \"../guesses/predicting_six_layer_mlp_call_type_c.csv\"\n",
    "\n",
    "df1 = pd.read_csv(a_pred)\n",
    "df2 = pd.read_csv(b_pred)\n",
    "df3 = pd.read_csv(c_pred)\n",
    "\n",
    "# Concatenate the DataFrames vertically\n",
    "concatenated_df = pd.concat([df1, df2, df3])\n",
    "\n",
    "# Extract the numerical portion from the \"TRIP_ID\" column\n",
    "concatenated_df['TRIP_ID_NUM'] = concatenated_df['TRIP_ID'].str.extract('(\\d+)').astype(int)\n",
    "\n",
    "# Sort the DataFrame based on the numerical portion of the \"TRIP_ID\" column\n",
    "sorted_df = concatenated_df.sort_values('TRIP_ID_NUM')\n",
    "\n",
    "# Drop the temporary \"TRIP_ID_NUM\" column\n",
    "sorted_df = sorted_df.drop('TRIP_ID_NUM', axis=1)\n",
    "\n",
    "# Save the sorted DataFrame as a new CSV file\n",
    "sorted_df.to_csv('../guesses/six_layer_mlp_concat_call_type_models.csv', index=False)"
   ]
  },
  {
   "cell_type": "code",
   "execution_count": null,
   "metadata": {},
   "outputs": [],
   "source": []
  }
 ],
 "metadata": {
  "kernelspec": {
   "display_name": ".venv",
   "language": "python",
   "name": "python3"
  },
  "language_info": {
   "codemirror_mode": {
    "name": "ipython",
    "version": 3
   },
   "file_extension": ".py",
   "mimetype": "text/x-python",
   "name": "python",
   "nbconvert_exporter": "python",
   "pygments_lexer": "ipython3",
   "version": "3.9.7"
  },
  "orig_nbformat": 4
 },
 "nbformat": 4,
 "nbformat_minor": 2
}
